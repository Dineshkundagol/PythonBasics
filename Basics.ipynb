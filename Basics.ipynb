{
 "cells": [
  {
   "cell_type": "markdown",
   "id": "81f0b6a3",
   "metadata": {},
   "source": [
    "# 1.Greeting\n",
    "\n",
    "Write a program that asks the user to enter his or her name. The program should\n",
    "respond with a message that says hello to the user, using his or her name."
   ]
  },
  {
   "cell_type": "code",
   "execution_count": 6,
   "id": "296aa719",
   "metadata": {},
   "outputs": [
    {
     "name": "stdout",
     "output_type": "stream",
     "text": [
      "Enter your namedinesh kundagol\n",
      "Hello Dinesh kundagol\n"
     ]
    }
   ],
   "source": [
    "name= input(\"Enter your name \").capitalize()\n",
    "print(f\"Hello {name}\")"
   ]
  },
  {
   "cell_type": "markdown",
   "id": "7a0c9caa",
   "metadata": {},
   "source": [
    "# 2.Area of a Room\n",
    "\n",
    "Write a program that asks the user to enter the width and length of a room. Once\n",
    "these values have been read, your program should compute and display the area of\n",
    "the room. The length and the width will be entered as floating-point numbers. Include\n",
    "units in your prompt and output message; either feet or meters, depending on which\n",
    "unit you are more comfortable working with."
   ]
  },
  {
   "cell_type": "code",
   "execution_count": 9,
   "id": "6fbb7763",
   "metadata": {},
   "outputs": [
    {
     "name": "stdout",
     "output_type": "stream",
     "text": [
      "Enter length of room 2.1\n",
      "Enter Width of room 2.1\n",
      "Area of Room is 4.41 m^2\n"
     ]
    }
   ],
   "source": [
    "length= float(input(\"Enter length of room \"))\n",
    "width= float(input(\"Enter Width of room \"))\n",
    "print(f\"Area of Room is {length*width} m^2\")                    \n",
    "                    "
   ]
  },
  {
   "cell_type": "markdown",
   "id": "7ad45e51",
   "metadata": {},
   "source": [
    "# 3.Area of a Field\n",
    "\n",
    "Create a program that reads the length and width of a farmer’s field from the user in\n",
    "feet. Display the area of the field in acres."
   ]
  },
  {
   "cell_type": "code",
   "execution_count": 10,
   "id": "f9575511",
   "metadata": {},
   "outputs": [
    {
     "name": "stdout",
     "output_type": "stream",
     "text": [
      "Enter length of field 1000\n",
      "Enter Width of field 1000\n",
      "Aear of field is 22.95684113865932 acres\n"
     ]
    }
   ],
   "source": [
    "length= float(input(\"Enter length of field \"))\n",
    "width= float(input(\"Enter Width of field \"))\n",
    "print(f\"Aear of field is {length*width/43560} acres\")"
   ]
  },
  {
   "cell_type": "markdown",
   "id": "6a35b126",
   "metadata": {},
   "source": [
    "# 4. Bottle Deposits\n",
    "\n",
    "In many jurisdictions a small deposit is added to drink containers to encourage people\n",
    "to recycle them. In one particular jurisdiction, drink containers holding one liter or\n",
    "less have a $0.10 deposit, and drink containers holding more than one liter have a\n",
    "$0.25 deposit.\n",
    "Write a program that reads the number of containers of each size from the user.\n",
    "Your program should continue by computing and displaying the refund that will be\n",
    "received for returning those containers. Format the output so that it includes a dollar\n",
    "sign and two digits to the right of the decimal point."
   ]
  },
  {
   "cell_type": "code",
   "execution_count": 13,
   "id": "d1f35e18",
   "metadata": {},
   "outputs": [
    {
     "name": "stdout",
     "output_type": "stream",
     "text": [
      "Enter count of bottle with volume 1 liter or less than that 10\n",
      "Enter count of bottle with volume more than 1 liter 10\n",
      "The total of refund added to your account is 3.50$\n"
     ]
    }
   ],
   "source": [
    "bottle_count_lessthan_1_ltr=int(input(\"Enter count of bottle with volume 1 liter or less than that \"))\n",
    "bottle_count_morethan_1_ltr=int(input(\"Enter count of bottle with volume more than 1 liter \"))\n",
    "print(f\"The total of refund added to your account is {(bottle_count_lessthan_1_ltr* 0.1 +bottle_count_morethan_1_ltr*0.25):0.2f}$\")"
   ]
  },
  {
   "cell_type": "markdown",
   "id": "7a155ac8",
   "metadata": {},
   "source": [
    "# 5. Tax and Tip\n",
    "\n",
    "The program that you create for this exercise will begin by reading the cost of a meal\n",
    "ordered at a restaurant from the user. Then your program will compute the tax and\n",
    "tip for the meal. Use your local tax rate when computing the amount of tax owing.\n",
    "Compute the tip as 18 percent of the meal amount (without the tax). The output from\n",
    "your program should include the tax amount, the tip amount, and the grand total for\n",
    "the meal including both the tax and the tip. Format the output so that all of the values\n",
    "are displayed using two decimal places."
   ]
  },
  {
   "cell_type": "code",
   "execution_count": 14,
   "id": "7c4698a2",
   "metadata": {},
   "outputs": [
    {
     "name": "stdout",
     "output_type": "stream",
     "text": [
      "Enter total bill of meal ordered 100\n",
      "Total bill including TAX and TIP is 130.00$\n"
     ]
    }
   ],
   "source": [
    "bill=float(input(\"Enter total bill of meal ordered \"))\n",
    "tip= bill* 0.18\n",
    "tax= bill * 0.12\n",
    "print(f\"Total bill including TAX and TIP is {(bill+tax+tip):0.2f}$\")"
   ]
  },
  {
   "cell_type": "markdown",
   "id": "56332e23",
   "metadata": {},
   "source": [
    "# 6. Sum of the First n Positive Integers\n",
    "\n",
    "Write a program that reads a positive integer, n, from the user and then displays the\n",
    "sum of all of the integers from 1 to n. The sum of the first n positive integers can be\n",
    "computed using the formula:\n",
    "sum = (n)(n + 1)/2"
   ]
  },
  {
   "cell_type": "code",
   "execution_count": 18,
   "id": "183752b6",
   "metadata": {},
   "outputs": [
    {
     "name": "stdout",
     "output_type": "stream",
     "text": [
      "Enter positive integer 4\n",
      "Sum of all integers from 1 to 4 is 10.0\n"
     ]
    }
   ],
   "source": [
    "num=int(input(\"Enter positive integer \"))\n",
    "print(f\"Sum of all integers from 1 to {num} is {num*(num+1)/2}\")"
   ]
  },
  {
   "cell_type": "markdown",
   "id": "a8f9bf9c",
   "metadata": {},
   "source": [
    "# 7. Widgets and Gizmos\n",
    "\n",
    "An online retailer sells two products: widgets and gizmos. Each widget weighs 75\n",
    "grams. Each gizmo weighs 112 grams. Write a program that reads the number of\n",
    "widgets and the number of gizmos from the user. Then your program should compute\n",
    "and display the total weight of the parts."
   ]
  },
  {
   "cell_type": "code",
   "execution_count": 19,
   "id": "3af64a0d",
   "metadata": {},
   "outputs": [
    {
     "name": "stdout",
     "output_type": "stream",
     "text": [
      "Enter total number of widgets 10\n",
      "Enter total number of gizmos 10\n",
      "total weight of products is 1.870 kgs\n"
     ]
    }
   ],
   "source": [
    "widgets=int(input(\"Enter total number of widgets \"))\n",
    "gizmos=int(input(\"Enter total number of gizmos \"))\n",
    "total_weight= widgets*75 + gizmos*112\n",
    "print(f\"total weight of products is {(total_weight/1000):0.3f} kgs\")"
   ]
  },
  {
   "cell_type": "markdown",
   "id": "b530f320",
   "metadata": {},
   "source": [
    "# 8.  Compound Interest\n",
    "\n",
    "Pretend that you have just opened a new savings account that earns 4 percent interest\n",
    "per year. The interest that you earn is paid at the end of the year, and is added to the\n",
    "balance of the savings account. Write a program that begins by reading the amount of\n",
    "money deposited into the account from the user. Then your program should compute\n",
    "and display the amount in the savings account after 1, 2, and 3 years. Display each\n",
    "amount so that it is rounded to 2 decimal places."
   ]
  },
  {
   "cell_type": "code",
   "execution_count": 24,
   "id": "10dd8135",
   "metadata": {},
   "outputs": [
    {
     "name": "stdout",
     "output_type": "stream",
     "text": [
      "Enter total amount deposited 100\n",
      "the total amount after 1 year is 104.00$ after 2 years is 108.16$ and after 3 years is 112.49$\n"
     ]
    }
   ],
   "source": [
    "amount=float(input(\"Enter total amount deposited \"))\n",
    "amount1=amount*(0.04+1)\n",
    "amount2=amount1*(0.04+1)\n",
    "amount3=amount2*(0.04+1)\n",
    "\n",
    "print(f\"the total amount after 1 year is {amount1:0.2f}$ after 2 years is {amount2:0.2f}$ and after 3 years is {amount3:0.2f}$\")\n"
   ]
  },
  {
   "cell_type": "markdown",
   "id": "f55a5ccf",
   "metadata": {},
   "source": [
    "# 9.  Arithmetic\n",
    "(Solved, 22 Lines)\n",
    "Create a program that reads two integers, a and b, from the user. Your program should\n",
    "compute and display:\n",
    "• The sum of a and b\n",
    "• The difference when b is subtracted from a\n",
    "• The product of a and b\n",
    "• The quotient when a is divided by b\n",
    "• The remainder when a is divided by b\n",
    "• The result of log10 a\n",
    "• The result of ab\n",
    "\n",
    " "
   ]
  },
  {
   "cell_type": "code",
   "execution_count": 29,
   "id": "845a6440",
   "metadata": {},
   "outputs": [
    {
     "name": "stdout",
     "output_type": "stream",
     "text": [
      "Enter valuve of a 3\n",
      "Enter valuve of b 5\n",
      "The sum of a and b is 8\n",
      "The difference when b is subtracted from a -2\n",
      "The product of a and b is 15\n",
      "The quotient when a is divided by b is 0\n",
      "The remainder when a is divided by b is 3\n",
      "The result of log10 a is 0.47712125471966244\n",
      "The result of a power b is 243\n"
     ]
    }
   ],
   "source": [
    "import math\n",
    "a=int(input(\"Enter valuve of a \"))\n",
    "b=int(input(\"Enter valuve of b \"))\n",
    "print(f\"The sum of a and b is {a+b}\")\n",
    "print(f\"The difference when b is subtracted from a {a-b}\")\n",
    "print(f\"The product of a and b is {a*b}\")\n",
    "print(f\"The quotient when a is divided by b is {a//b}\")\n",
    "print(f\"The remainder when a is divided by b is {a%b}\")\n",
    "print(f\"The result of log10 a is {math.log10(a)}\")\n",
    "print(f\"The result of a power b is {a**b}\")"
   ]
  },
  {
   "cell_type": "markdown",
   "id": "4720e104",
   "metadata": {},
   "source": [
    "# 10. Fuel Efficiency\n",
    "\n",
    "In the United States, fuel efficiency for vehicles is normally expressed in miles-pergallon (MPG). In Canada, fuel efficiency is normally expressed in liters-per-hundred\n",
    "kilometers (L/100 km). Use your research skills to determine how to convert from\n",
    "MPG to L/100 km. Then create a program that reads a value from the user in American\n",
    "units and displays the equivalent fuel efficiency in Canadian units."
   ]
  },
  {
   "cell_type": "code",
   "execution_count": 2,
   "id": "1530c3ac",
   "metadata": {},
   "outputs": [
    {
     "name": "stdout",
     "output_type": "stream",
     "text": [
      "Enter efficiencey of fuel in miles-pergallon 2\n",
      "Efficiency of fuel in 2.0 MPG equals to 470.43 L/100 km\n"
     ]
    }
   ],
   "source": [
    "efficiencyA=float(input(\"Enter efficiencey of fuel in miles-pergallon \"))\n",
    "efficiencyC=efficiencyA * 235.215\n",
    "print(f\"Efficiency of fuel in {efficiencyA} MPG equals to {efficiencyC} L/100 km\" )"
   ]
  }
 ],
 "metadata": {
  "kernelspec": {
   "display_name": "Python 3 (ipykernel)",
   "language": "python",
   "name": "python3"
  },
  "language_info": {
   "codemirror_mode": {
    "name": "ipython",
    "version": 3
   },
   "file_extension": ".py",
   "mimetype": "text/x-python",
   "name": "python",
   "nbconvert_exporter": "python",
   "pygments_lexer": "ipython3",
   "version": "3.9.12"
  }
 },
 "nbformat": 4,
 "nbformat_minor": 5
}
