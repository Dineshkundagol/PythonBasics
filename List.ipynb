{
 "cells": [
  {
   "cell_type": "markdown",
   "id": "f3052609",
   "metadata": {},
   "source": [
    "# 1.Sorted Order\n",
    "\n",
    "Write a program that reads integers from the user and stores them in a list. Your\n",
    "program should continue reading values until the user enters 0. Then it should display\n",
    "all of the values entered by the user (except for the 0) in ascending order, with one\n",
    "value appearing on each line. Use either the sort method or the sorted function\n",
    "to sort the list."
   ]
  },
  {
   "cell_type": "code",
   "execution_count": 4,
   "id": "1b69a8cd",
   "metadata": {},
   "outputs": [
    {
     "name": "stdout",
     "output_type": "stream",
     "text": [
      "Enter integer 1\n",
      "Enter next integer(0 to exit) 2\n",
      "Enter next integer(0 to exit) 3\n",
      "Enter next integer(0 to exit) 7\n",
      "Enter next integer(0 to exit) 3\n",
      "Enter next integer(0 to exit) -1\n",
      "Enter next integer(0 to exit) -4\n",
      "Enter next integer(0 to exit) -2\n",
      "Enter next integer(0 to exit) 0\n",
      "sorted values are : \n",
      "-4\n",
      "-2\n",
      "-1\n",
      "1\n",
      "2\n",
      "3\n",
      "3\n",
      "7\n"
     ]
    }
   ],
   "source": [
    "lst= []\n",
    "lst.append(int(input(\"Enter integer \")))\n",
    "while lst[-1]!=0:\n",
    "    lst.append(int(input(\"Enter next integer(0 to exit) \")))\n",
    "lst.remove(0)\n",
    "lst.sort()\n",
    "print(\"sorted values are : \")\n",
    "for num in lst:\n",
    "    print(num)\n",
    "    "
   ]
  },
  {
   "cell_type": "markdown",
   "id": "41890a0c",
   "metadata": {},
   "source": [
    "# 2. Reverse Order\n",
    "\n",
    "Write a program that reads integers from the user and stores them in a list. Use 0 as\n",
    "a sentinel value to mark the end of the input. Once all of the values have been read\n",
    "your program should display them (except for the 0) in reverse order, with one value\n",
    "appearing on each line."
   ]
  },
  {
   "cell_type": "code",
   "execution_count": 7,
   "id": "318eb74a",
   "metadata": {},
   "outputs": [
    {
     "name": "stdout",
     "output_type": "stream",
     "text": [
      "Enter integer 0\n",
      "inegers in reverse order : \n"
     ]
    }
   ],
   "source": [
    "lst= []\n",
    "lst.append(int(input(\"Enter integer \")))\n",
    "while lst[-1]!=0:\n",
    "    lst.append(int(input(\"Enter next integer(0 to exit) \")))\n",
    "lst.remove(0)\n",
    "lst= lst[::-1]\n",
    "print(\"inegers in reverse order : \")\n",
    "for num in lst:\n",
    "    print(num)"
   ]
  },
  {
   "cell_type": "markdown",
   "id": "5b7ab3ec",
   "metadata": {},
   "source": [
    "# 3. Remove Outliers\n",
    "\n",
    "When analysing data collected as part of a science experiment it may be desirable\n",
    "to remove the most extreme values before performing other calculations. Write a\n",
    "function that takes a list of values and an non-negative integer, n, as its parameters.\n",
    "The function should create a new copy of the list with the n largest elements and the\n",
    "n smallest elements removed. Then it should return the new copy of the list as the\n",
    "function’s only result. The order of the elements in the returned list does not have to\n",
    "match the order of the elements in the original list.\n",
    "Write a main program that demonstrates your function. It should read a list of\n",
    "numbers from the user and remove the two largest and two smallest values from it by\n",
    "calling the function described previously. Display the list with the outliers removed,\n",
    "followed by the original list. Your program should generate an appropriate error\n",
    "message if the user enters less than 4 values."
   ]
  },
  {
   "cell_type": "code",
   "execution_count": 73,
   "id": "0ed6d1d4",
   "metadata": {},
   "outputs": [
    {
     "name": "stdout",
     "output_type": "stream",
     "text": [
      "Enter non negative integers 1\n",
      "Enter non negative integers(enter negative integer to exit) 2\n",
      "Enter non negative integers(enter negative integer to exit) 3\n",
      "Enter non negative integers(enter negative integer to exit) 4\n",
      "Enter non negative integers(enter negative integer to exit) 5\n",
      "Enter non negative integers(enter negative integer to exit) -1\n",
      "Enter how many max or min outliers to be removed from list2\n",
      "resulted list after removing 2 maximum and 2 minimum outliers \n",
      "3\n"
     ]
    }
   ],
   "source": [
    "def read_input():\n",
    "    input_lst= []\n",
    "    input_lst.append(int(input(\"Enter non negative integers \")))\n",
    "    while input_lst[-1]>=0:\n",
    "        input_lst.append(int(input(\"Enter non negative integers(enter negative integer to exit) \")))\n",
    "    input_lst.remove(input_lst[-1])\n",
    "    return input_lst\n",
    "def remove_outliers(lst,num):\n",
    "    lst.sort()\n",
    "    return lst[num:-num]\n",
    "\n",
    "source=read_input()\n",
    "num=int(input(\"Enter how many max or min outliers to be removed from list\"))\n",
    "if len(source)<(2*num):\n",
    "    print(\"list has less elements than outliers \")\n",
    "else:\n",
    "    output=remove_outliers(source,num)\n",
    "    print(f\"resulted list after removing {num} maximum and {num} minimum outliers \")\n",
    "    [print(num) for num in output]\n",
    "        \n"
   ]
  },
  {
   "cell_type": "markdown",
   "id": "eea691fc",
   "metadata": {},
   "source": [
    "# 4. Avoiding Duplicates\n",
    "\n",
    "In this exercise, you will create a program that reads words from the user until the\n",
    "user enters a blank line. After the user enters a blank line your program should display each word entered by the user exactly once. The words should be displayed in\n",
    "the same order that they were first entered. For example, if the user enters:\n",
    "first\n",
    "second\n",
    "first\n",
    "third\n",
    "second\n",
    "then your program should display:\n",
    "first\n",
    "second\n",
    "third"
   ]
  },
  {
   "cell_type": "code",
   "execution_count": 72,
   "id": "be6a3385",
   "metadata": {},
   "outputs": [
    {
     "name": "stdout",
     "output_type": "stream",
     "text": [
      "Enter word one\n",
      "Enter next word(enter blank line to exit) two\n",
      "Enter next word(enter blank line to exit) one\n",
      "Enter next word(enter blank line to exit) fourth\n",
      "Enter next word(enter blank line to exit) two\n",
      "Enter next word(enter blank line to exit) one\n",
      "Enter next word(enter blank line to exit) third\n",
      "Enter next word(enter blank line to exit) one\n",
      "Enter next word(enter blank line to exit) \n",
      "one\n",
      "two\n",
      "fourth\n",
      "third\n"
     ]
    },
    {
     "data": {
      "text/plain": [
       "[None, None, None, None]"
      ]
     },
     "execution_count": 72,
     "metadata": {},
     "output_type": "execute_result"
    }
   ],
   "source": [
    "def read_input():\n",
    "    input_lst= []\n",
    "    input_lst.append(input(\"Enter word \"))\n",
    "    while input_lst[-1]!=\"\":\n",
    "        input_lst.append(input(\"Enter next word(enter blank line to exit) \"))\n",
    "    input_lst.remove(input_lst[-1])\n",
    "    return input_lst\n",
    "\n",
    "def remove_duplicates(lst):\n",
    "    for i,num in enumerate(lst):\n",
    "        for j in range(i+1,len(lst)):\n",
    "            if lst[i]==lst[j]:\n",
    "                lst[j]=None\n",
    "    [lst.remove(None) for i in range(lst.count(None))]\n",
    "    return lst\n",
    "source=read_input()\n",
    "output=remove_duplicates(source)\n",
    "[print(word) for word in output]\n"
   ]
  },
  {
   "cell_type": "markdown",
   "id": "d2a6e990",
   "metadata": {},
   "source": [
    "# 5. Negatives, Zeros and Positives\n",
    "\n",
    "Create a program that reads integers from the user until a blank line is entered. Once\n",
    "all of the integers have been read your program should display all of the negative\n",
    "numbers, followed by all of the zeros, followed by all of the positive numbers. Within\n",
    "each group the numbers should be displayed in the same order that they were entered\n",
    "by the user. For example, if the user enters the values 3, -4, 1, 0, -1, 0, and -2 then"
   ]
  },
  {
   "cell_type": "code",
   "execution_count": 79,
   "id": "d242af92",
   "metadata": {},
   "outputs": [
    {
     "name": "stdout",
     "output_type": "stream",
     "text": [
      "Enter integer 1\n",
      "Enter next integer(enter blank line to exit) \n",
      "1\n"
     ]
    },
    {
     "data": {
      "text/plain": [
       "[None]"
      ]
     },
     "execution_count": 79,
     "metadata": {},
     "output_type": "execute_result"
    }
   ],
   "source": [
    "def read_input():\n",
    "    input_lst= []\n",
    "    a= input(\"Enter integer \")\n",
    "    while a!=\"\":\n",
    "        input_lst.append(int(a))\n",
    "        a=input(\"Enter next integer(enter blank line to exit) \")\n",
    "    return input_lst\n",
    "source= read_input()\n",
    "output=[]\n",
    "[output.append(num) for num in source if num<0]\n",
    "[output.append(num) for num in source if num==0]\n",
    "[output.append(num) for num in source if num>0]\n",
    "[print(num) for num in output]"
   ]
  },
  {
   "cell_type": "markdown",
   "id": "3f5c38d6",
   "metadata": {},
   "source": [
    "# 6. List of Proper Divisors\n",
    "\n",
    "A proper divisor of a positive integer, n, is a positive integer less than n which divides\n",
    "evenly into n. Write a function that computes all of the proper divisors of a positive\n",
    "integer. The integer will be passed to the function as its only parameter. The function\n",
    "will return a list containing all of the proper divisors as its only result. Complete\n",
    "this exercise by writing a main program that demonstrates the function by reading\n",
    "a value from the user and displaying the list of its proper divisors. Ensure that your\n",
    "main program only runs when your solution has not been imported into another file."
   ]
  },
  {
   "cell_type": "code",
   "execution_count": 87,
   "id": "ff512d9d",
   "metadata": {},
   "outputs": [
    {
     "name": "stdout",
     "output_type": "stream",
     "text": [
      "Enter positive integer 1\n",
      "[]\n"
     ]
    }
   ],
   "source": [
    "def proper_devisors(num):\n",
    "    proper_devisor=[]\n",
    "    for i in range(1,(num//2)+1):\n",
    "        if num%i==0:\n",
    "            proper_devisor.append(i)\n",
    "    return proper_devisor\n",
    "if __name__==\"__main__\":\n",
    "    proper_devisor=proper_devisors(int(input(\"Enter positive integer \")))\n",
    "    print(proper_devisor)\n",
    "\n",
    "            "
   ]
  },
  {
   "cell_type": "markdown",
   "id": "fa76857e",
   "metadata": {},
   "source": [
    "# 7.  Perfect Numbers\n",
    "\n",
    "An integer, n, is said to be perfect when the sum of all of the proper divisors of n is\n",
    "equal to n. For example, 28 is a perfect number because its proper divisors are 1, 2,\n",
    "4, 7 and 14, and 1 + 2 + 4 + 7 + 14 = 28.\n",
    "Write a function that determines whether or not a positive integer is perfect. Your\n",
    "function will take one parameter. If that parameter is a perfect number then your\n",
    "function will return True. Otherwise it will return False. In addition, write a main\n",
    "program that uses your function to identify and display all of the perfect numbers\n",
    "between 1 and 10,000. Import your solution to Exercise 115 when completing this\n",
    "task. "
   ]
  },
  {
   "cell_type": "code",
   "execution_count": 119,
   "id": "3a08ad71",
   "metadata": {},
   "outputs": [
    {
     "name": "stdout",
     "output_type": "stream",
     "text": [
      "enter max limit 100\n",
      "[6, 28]\n"
     ]
    }
   ],
   "source": [
    "def isprefect_number(num):\n",
    "    proper_devisor=proper_devisors(num)\n",
    "    return sum(proper_devisor)==num\n",
    "limit=int(input(\"enter max limit \"))\n",
    "output= list(filter(isprefect_number,range(1,limit)))\n",
    "print(output)"
   ]
  },
  {
   "cell_type": "markdown",
   "id": "0848837d",
   "metadata": {},
   "source": [
    "# 8. Only the Words\n",
    "\n",
    "In this exercise you will create a program that identifies all of the words in a\n",
    "string entered by the user. Begin by writing a function that takes a string as\n",
    "its only parameter. Your function should return a list of the words in the string\n",
    "with the punctuation marks at the edges of the words removed. The punctuation marks that you must consider include commas, periods, question marks,\n",
    "hyphens, apostrophes, exclamation points, colons, and semicolons. Do not remove\n",
    "punctuation marks that appear in the middle of a word, such as the apostrophes\n",
    "used to form a contraction. For example, if your function is provided with the\n",
    "string \"Contractions include: don’t, isn’t, and wouldn’t.\"\n",
    "then your function should return the list [\"Contractions\", \"include\",\n",
    "\"don’t\", \"isn’t\", \"and\", \"wouldn’t\"].\n",
    "    Write a main program that demonstrates your function. It should read a string from\n",
    "the user and then display all of the words in the string with the punctuation marks\n",
    "removed. You will need to import your solution to this exercise when completing\n",
    "Exercises 118 and 167. As a result, you should ensure that your main program only\n",
    "runs when your file has not been imported into another program."
   ]
  },
  {
   "cell_type": "code",
   "execution_count": 12,
   "id": "978c5978",
   "metadata": {},
   "outputs": [
    {
     "name": "stdout",
     "output_type": "stream",
     "text": [
      "Enter sentence Herb the sage eats sage, the herb\n",
      "['Herb', 'the', 'sage', 'eats', 'sage', 'the', 'herb']\n"
     ]
    }
   ],
   "source": [
    " def words_list(sentence):\n",
    "        words=sentence.split()\n",
    "        punctuation=[\".\",\",\",\"!\",\"?\",\"'\",\"-\",\";\",\":\",'\"']\n",
    "        for i,word in enumerate(words):\n",
    "            while word[-1] in punctuation:\n",
    "                word= word[:-1]\n",
    "                words[i]=word\n",
    "        return words\n",
    "sentence=input(\"Enter sentence \")\n",
    "print(words_list(sentence))"
   ]
  },
  {
   "cell_type": "markdown",
   "id": "ea4939eb",
   "metadata": {},
   "source": [
    "# 9. Word by Word Palindromes\n",
    "\n",
    " For example, while the sentence “Is it crazy how saying sentences backwards creates backwards sentences saying how\n",
    "crazy it is?” isn’t a character by character palindrome, it is a palindrome when examined a word at a time (and when capitalization and punctuation are ignored). Other\n",
    "examples of word by word palindromes include “Herb the sage eats sage, the herb”\n",
    "and “Information school graduate seeks graduate school information”.\n",
    "Create a program that reads a string from the user. Your program should report\n",
    "whether or not the entered string is a word by word palindrome. Ignore spacing and\n",
    "punctuation when determining the result."
   ]
  },
  {
   "cell_type": "code",
   "execution_count": 18,
   "id": "5ff84bb6",
   "metadata": {},
   "outputs": [
    {
     "name": "stdout",
     "output_type": "stream",
     "text": [
      "enter sentence to check word plaindrom Herb the sage eats sage, the her\n",
      "'Herb the sage eats sage, the her' is not a word palidrom\n"
     ]
    }
   ],
   "source": [
    "def palindrom_check(sentence):\n",
    "    sentence_lower=sentence.lower()\n",
    "    words=words_list(sentence_lower)\n",
    "    return True if words[::]==words[::-1] else False\n",
    "        \n",
    "sentence= input(\"enter sentence to check word plaindrom \")\n",
    "print(f\"'{sentence}' is word palidrom\") if palindrom_check(sentence) else print(f\"'{sentence}' is not a word palidrom\")\n"
   ]
  },
  {
   "cell_type": "markdown",
   "id": "deaf1402",
   "metadata": {},
   "source": [
    "# 10. Below and Above Average\n",
    "\n",
    "Write a program that reads numbers from the user until a blank line is entered. Your\n",
    "program should display the average of all of the values entered by the user. Then\n",
    "the program should display all of the below average values, followed by all of the\n",
    "average values (if any), followed by all of the above average values. An appropriate\n",
    "label should be displayed before each list of values."
   ]
  },
  {
   "cell_type": "code",
   "execution_count": 32,
   "id": "98a8d943",
   "metadata": {
    "scrolled": true
   },
   "outputs": [
    {
     "name": "stdout",
     "output_type": "stream",
     "text": [
      "Enter number 1\n",
      "Enter number (blank line to exit)2\n",
      "Enter number (blank line to exit)3\n",
      "Enter number (blank line to exit)4\n",
      "Enter number (blank line to exit)5\n",
      "Enter number (blank line to exit)6\n",
      "Enter number (blank line to exit)7\n",
      "Enter number (blank line to exit)\n",
      "[1.0, 2.0, 3.0]\n",
      "[4.0]\n",
      "[5.0, 6.0, 7.0]\n"
     ]
    }
   ],
   "source": [
    "num=[]\n",
    "number=input(\"Enter number \")\n",
    "while number !=\"\":\n",
    "    num.append(float(number))\n",
    "    number=input(\"Enter number (blank line to exit)\")\n",
    "average=sum(num)/len(num)\n",
    "print([number for number in num if number<average])\n",
    "print([number for number in num if number==average])\n",
    "print([number for number in num if number>average])\n",
    "    \n"
   ]
  }
 ],
 "metadata": {
  "kernelspec": {
   "display_name": "Python 3 (ipykernel)",
   "language": "python",
   "name": "python3"
  },
  "language_info": {
   "codemirror_mode": {
    "name": "ipython",
    "version": 3
   },
   "file_extension": ".py",
   "mimetype": "text/x-python",
   "name": "python",
   "nbconvert_exporter": "python",
   "pygments_lexer": "ipython3",
   "version": "3.9.12"
  }
 },
 "nbformat": 4,
 "nbformat_minor": 5
}
