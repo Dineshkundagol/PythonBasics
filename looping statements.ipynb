{
 "cells": [
  {
   "cell_type": "markdown",
   "id": "17600d60",
   "metadata": {},
   "source": [
    "# 1. Average\n",
    "\n",
    "In this exercise you will create a program that computes the average of a collection\n",
    "of values entered by the user. The user will enter 0 as a sentinel value to indicate\n",
    "that no further values will be provided. Your program should display an appropriate\n",
    "error message if the first value entered by the user is 0."
   ]
  },
  {
   "cell_type": "code",
   "execution_count": null,
   "id": "00c5c3e3",
   "metadata": {},
   "outputs": [],
   "source": [
    "a=int(input(\"Enter first value \"))\n",
    "average=0\n",
    "count=0\n",
    "while a:\n",
    "    average+=a\n",
    "    count+=1\n",
    "    a= int(input(\"enter next value\"))\n",
    "else:\n",
    "    print(f\"average of entred values is {average/count}\")"
   ]
  },
  {
   "cell_type": "markdown",
   "id": "063beccf",
   "metadata": {},
   "source": [
    "# 2. Discount Table\n",
    "\n",
    "A particular retailer is having a 60 percent off sale on a variety of discontinued\n",
    "products. The retailer would like to help its customers determine the reduced price\n",
    "of the merchandise by having a printed discount table on the shelf that shows the\n",
    "original prices and the prices after the discount has been applied. Write a program that\n",
    "uses a loop to generate this table, showing the original price, the discount amount,\n",
    "and the new price for purchases of $4.95, $9.95, $14.95, $19.95 and $24.95. Ensure\n",
    "that the discount amounts and the new prices are rounded to 2 decimal places when\n",
    "they are displayed."
   ]
  },
  {
   "cell_type": "code",
   "execution_count": null,
   "id": "bef46082",
   "metadata": {},
   "outputs": [],
   "source": [
    "total_products=int(input(\"enter total umber of products in shop\"))\n",
    "original_value=[]\n",
    "for num in range(0,total_products):\n",
    "    original_value.append(float(input(\"enter original values of product\")))\n",
    "for value in original_value:\n",
    "    print(f\"marked price = {value:0.2f}$ and final price = {value*0.6:0.2f}$\")"
   ]
  },
  {
   "cell_type": "markdown",
   "id": "977332e2",
   "metadata": {},
   "source": [
    "# 3. Temperature Conversion Table\n",
    "\n",
    "Write a program that displays a temperature conversion table for degrees Celsius and\n",
    "degrees Fahrenheit. The table should include rows for all temperatures between 0\n",
    "and 100 degrees Celsius that are multiples of 10 degrees Celsius. Include appropriate\n",
    "headings on your columns. The formula for converting between degrees Celsius and\n",
    "degrees Fahrenheit can be found on the Internet."
   ]
  },
  {
   "cell_type": "code",
   "execution_count": null,
   "id": "0181bc5c",
   "metadata": {},
   "outputs": [],
   "source": [
    "for degree in range(0,101,10):\n",
    "    print(f\"degree in Celsius = {degree:0.2f} and equalent value in Fahrenheit = {degree*1.8+32:0.2f}\")"
   ]
  },
  {
   "cell_type": "markdown",
   "id": "584a8d12",
   "metadata": {},
   "source": [
    "# 4.  No More Pennies\n",
    "\n",
    "February 4, 2013 was the last day that pennies were distributed by the Royal Canadian\n",
    "Mint. Now that pennies have been phased out retailers must adjust totals so that they\n",
    "are multiples of 5 cents when they are paid for with cash (credit card and debit card\n",
    "transactions continue to be charged to the penny). While retailers have some freedom\n",
    "in how they do this, most choose to round to the closest nickel.\n",
    "Write a program that reads prices from the user until a blank line is entered.\n",
    "Display the total cost of all the entered items on one line, followed by the amount\n",
    "due if the customer pays with cash on a second line. The amount due for a cash\n",
    "payment should be rounded to the nearest nickel. One way to compute the cash\n",
    "payment amount is to begin by determining how many pennies would be needed to\n",
    "pay the total. Then compute the remainder when this number of pennies is divided\n",
    "by 5. Finally, adjust the total down if the remainder is less than 2.5. Otherwise adjust\n",
    "the total up."
   ]
  },
  {
   "cell_type": "code",
   "execution_count": null,
   "id": "b3bde389",
   "metadata": {},
   "outputs": [],
   "source": [
    "a=float(input(\"Enter first value of product \"))\n",
    "average=0\n",
    "pennies_per_nickel=5\n",
    "while a!=\"\":\n",
    "    average+=float(a)\n",
    "    a= (input(\"enter next value and blak line to quit\"))\n",
    "print(f\"tatal price before coversion {average}\")\n",
    "if average%pennies_per_nickel<2.5:\n",
    "    average= average-average%pennies_per_nickel\n",
    "else:\n",
    "    average=average+(5-average%pennies_per_nickel)\n",
    "print(f\"fial price {average}\")"
   ]
  },
  {
   "cell_type": "markdown",
   "id": "0c640139",
   "metadata": {},
   "source": [
    "# 5. Compute the Perimeter of a Polygon\n",
    "\n",
    "Write a program that computes the perimeter of a polygon. Begin by reading the\n",
    "x and y coordinates for the first point on the perimeter of the polygon from the\n",
    "user. Then continue reading pairs of values until the user enters a blank line for the\n",
    "x-coordinate. Each time you read an additional coordinate you should compute the\n",
    "distance to the previous point and add it to the perimeter. When a blank line is entered\n",
    "for the x-coordinate your program should add the distance from the last point back\n",
    "to the first point to the perimeter. "
   ]
  },
  {
   "cell_type": "code",
   "execution_count": null,
   "id": "a16bdfc5",
   "metadata": {},
   "outputs": [],
   "source": [
    "x_axis=input(\"enter first edge on x axis \")\n",
    "x=x_axis\n",
    "y_axis=input(\"enter first edge on y axis \")\n",
    "y=y_axis\n",
    "perimeter=0\n",
    "while True:\n",
    "    x1_axis=input(\"Enter next edge on x axis(blank line to quit) \")\n",
    "    if x1_axis==\"\":\n",
    "        break\n",
    "    else:\n",
    "        y1_axis=input(\"Enter next edge on y axis \")\n",
    "        perimeter+=((float(x1_axis)-float(x))**2+(float(y1_axis)-float(y))**2)**0.5\n",
    "        x=x1_axis\n",
    "        y=y1_axis\n",
    "perimeter+=((float(x_axis)-float(x))**2+(float(y_axis)-float(y))**2)**0.5\n",
    "print(f\"perimmeter of polygon is {perimeter} meters\")"
   ]
  },
  {
   "cell_type": "markdown",
   "id": "ebd79333",
   "metadata": {},
   "source": [
    "# 6.  Compute a Grade Point Average\n",
    "\n",
    "Exercise 52 includes a table that shows the conversion from letter grades to grade\n",
    "points at a particular academic institution. In this exercise you will compute the\n",
    "grade point average of an arbitrary number of letter grades entered by the user. The \n",
    "user will enter a blank line to indicate that all of the grades have been provided. For\n",
    "example, if the user enters A, followed by C+, followed by B, followed by a blank\n",
    "line then your program should report a grade point average of 3.1.\n",
    "You may find your solution to Exercise 52 helpful when completing this exercise.\n",
    "Your program does not need to do any error checking. It can assume that each value\n",
    "entered by the user will always be a valid letter grade or a blank line."
   ]
  },
  {
   "cell_type": "code",
   "execution_count": null,
   "id": "36ec9818",
   "metadata": {},
   "outputs": [],
   "source": [
    "grades={\"A+\":4.0,\"A\":4.0,\"A-\":3.7,\"B+\":3.3,\"B\":3.0,\"B-\":2.7,\"C+\":2.3,\"C\":2.0,\"C-\":1.7,\"D+\":1.3,\"D\":1.0,\"F\":0}\n",
    "average=0\n",
    "count=0\n",
    "while True:\n",
    "    grade=input(\"Enter grade value (blank lie to exit)\")\n",
    "    if grade==\"\":\n",
    "        break\n",
    "    else:\n",
    "        average+=grades[grade.upper()]\n",
    "        count+=1\n",
    "print(f\"average grade points is {average/count}\")"
   ]
  },
  {
   "cell_type": "markdown",
   "id": "d4bca851",
   "metadata": {},
   "source": [
    "# 7. Admission Price\n",
    "\n",
    "A particular zoo determines the price of admission based on the age of the guest.\n",
    "Guests 2 years of age and less are admitted without charge. Children between 3 and\n",
    "12 years of age cost $14.00. Seniors aged 65 years and over cost $18.00. Admission\n",
    "for all other guests is $23.00.\n",
    "Create a program that begins by reading the ages of all of the guests in a group\n",
    "from the user, with one age entered on each line. The user will enter a blank line to\n",
    "indicate that there are no more guests in the group. Then your program should display\n",
    "the admission cost for the group with an appropriate message. The cost should be\n",
    "displayed using two decimal places."
   ]
  },
  {
   "cell_type": "code",
   "execution_count": 1,
   "id": "03f325f3",
   "metadata": {},
   "outputs": [
    {
     "name": "stdout",
     "output_type": "stream",
     "text": [
      "Enter age one by one(enter blank to quit) 1\n",
      "Enter age one by one(enter blank to quit) 12\n",
      "Enter age one by one(enter blank to quit) 14\n",
      "Enter age one by one(enter blank to quit) 45\n",
      "Enter age one by one(enter blank to quit) 56\n",
      "Enter age one by one(enter blank to quit) 65\n",
      "Enter age one by one(enter blank to quit) \n",
      "total cost is 101.00$\n"
     ]
    }
   ],
   "source": [
    "cost=0\n",
    "while True:\n",
    "    age=input(\"Enter age one by one(enter blank to quit) \")\n",
    "    if age==\"\":\n",
    "        break\n",
    "    age=int(age)\n",
    "    if age in range(3,13):\n",
    "        cost+=14\n",
    "    elif age in range(65,101):\n",
    "        cost+=18\n",
    "    elif age in range(13,65):\n",
    "        cost+=23\n",
    "    \n",
    "print(f\"total cost is {cost:0.2f}$\")"
   ]
  },
  {
   "cell_type": "markdown",
   "id": "650ca514",
   "metadata": {},
   "source": [
    "# 8. Parity Bits\n",
    "\n",
    "A parity bit is a simple mechanism for detecting errors in data transmitted over an\n",
    "unreliable connection such as a telephone line. The basic idea is that an additional bit\n",
    "is transmitted after each group of 8 bits so that a single bit error in the transmission\n",
    "can be detected.\n",
    "Parity bits can be computed for either even parity or odd parity. If even parity\n",
    "is selected then the parity bit that is transmitted is chosen so that the total number\n",
    "of one bits transmitted (8 bits of data plus the parity bit) is even. When odd parity\n",
    "is selected the parity bit is chosen so that the total number of one bits transmitted\n",
    "is odd.\n",
    "Write a program that computes the parity bit for groups of 8 bits entered by the\n",
    "user using even parity. Your program should read strings containing 8 bits until the\n",
    "user enters a blank line. After each string is entered by the user your program should\n",
    "display a clear message indicating whether the parity bit should be 0 or 1. Display\n",
    "an appropriate error message if the user enters something other than 8 bits."
   ]
  },
  {
   "cell_type": "code",
   "execution_count": 3,
   "id": "83304f3c",
   "metadata": {},
   "outputs": [
    {
     "name": "stdout",
     "output_type": "stream",
     "text": [
      "Enter 8 bits of data (enter blank line to exit) 101010101010\n",
      "Entered data length is not equal to 8, try again\n",
      "Enter 8 bits of data (enter blank line to exit) 10101011\n",
      "Parity bit is 1\n",
      "Enter 8 bits of data (enter blank line to exit) 1\n",
      "Entered data length is not equal to 8, try again\n",
      "Enter 8 bits of data (enter blank line to exit) \n"
     ]
    }
   ],
   "source": [
    "while True:\n",
    "    source=input(\"Enter 8 bits of data (enter blank line to exit) \")\n",
    "    if source==\"\":\n",
    "        break\n",
    "    if len(source)!=8:\n",
    "        print(\"Entered data length is not equal to 8, try again\")\n",
    "        continue\n",
    "    ones=source.count('1')\n",
    "    if ones%2==0:\n",
    "        print(\"Parity bit is 0\")\n",
    "    else:\n",
    "        print(\"Parity bit is 1\")\n",
    "        "
   ]
  },
  {
   "cell_type": "markdown",
   "id": "288b4160",
   "metadata": {},
   "source": [
    "# 9.  Approximate π\n",
    "The value of π can be approximated by the following infinite series:\n",
    "π ≈ 3 +4/(2 × 3 × 4) − 4/(4 × 5 × 6) +4/(6 × 7 × 8) − 4/(8 × 9 × 10) +4/(10 × 11 × 12) −···\n",
    "Write a program that displays 15 approximations of π. The first approximation should make use of only the first term from the infinite series. Each additional\n",
    "approximation displayed by your program should include one more term in the series,\n",
    "making it a better approximation of π than any of the approximations displayed previously."
   ]
  },
  {
   "cell_type": "code",
   "execution_count": 4,
   "id": "c2ec024e",
   "metadata": {},
   "outputs": [
    {
     "name": "stdout",
     "output_type": "stream",
     "text": [
      "3.1666666666666665\n",
      "3.1333333333333333\n",
      "3.145238095238095\n",
      "3.1396825396825396\n",
      "3.1427128427128426\n",
      "3.1408813408813407\n",
      "3.142071817071817\n",
      "3.1412548236077646\n",
      "3.141839618929402\n",
      "3.1414067184965018\n",
      "3.1417360992606653\n",
      "3.141479689004255\n",
      "3.1416831892077552\n",
      "3.1415189855952756\n",
      "3.141653394197426\n"
     ]
    }
   ],
   "source": [
    "pie=3\n",
    "a=2\n",
    "for i in range(0,15):\n",
    "    pie=pie+ (-1)**(i)*4/((a)*(a+1)*(a+2))\n",
    "    print(pie)\n",
    "    a=a+2\n",
    "    "
   ]
  },
  {
   "cell_type": "markdown",
   "id": "1ef8cfa0",
   "metadata": {},
   "source": [
    "# 10. Fizz-Buzz\n",
    "\n",
    "Fizz-Buzz is a game that is sometimes played by children to help them learn about\n",
    "division. The players are commonly arranged in a circle so that the game can progress\n",
    "from player to player continually. The starting player begins by saying one, and then\n",
    "play passes to the player to the left. Each subsequent player is responsible for the\n",
    "next integer in sequence before play passes to the following player. On a player’s\n",
    "turn they must either say their number or one of following substitutions:\n",
    "• If the player’s number is divisible by 3 then the player says fizz instead of their\n",
    "number.\n",
    "• If the player’s number is divisible by 5 then the player says buzz instead of their\n",
    "number.\n",
    "A player must say both fizz and buzz for numbers that are divisible by both 3\n",
    "and 5. Any player that fails to perform the correct substitution or hesitates before\n",
    "answering is eliminated from the game. The last player remaining is the winner.\n",
    "Write a program that displays the answers for the first 100 numbers in the FizzBuzz game. Each answer should be displayed on its own line."
   ]
  },
  {
   "cell_type": "code",
   "execution_count": 5,
   "id": "c80e12d8",
   "metadata": {},
   "outputs": [
    {
     "name": "stdout",
     "output_type": "stream",
     "text": [
      "1\n",
      "2\n",
      "fizz\n",
      "4\n",
      "buzz\n",
      "fizz\n",
      "7\n",
      "8\n",
      "fizz\n",
      "buzz\n",
      "11\n",
      "fizz\n",
      "13\n",
      "14\n",
      "fizz buzz\n",
      "16\n",
      "17\n",
      "fizz\n",
      "19\n",
      "buzz\n",
      "fizz\n",
      "22\n",
      "23\n",
      "fizz\n",
      "buzz\n",
      "26\n",
      "fizz\n",
      "28\n",
      "29\n",
      "fizz buzz\n",
      "31\n",
      "32\n",
      "fizz\n",
      "34\n",
      "buzz\n",
      "fizz\n",
      "37\n",
      "38\n",
      "fizz\n",
      "buzz\n",
      "41\n",
      "fizz\n",
      "43\n",
      "44\n",
      "fizz buzz\n",
      "46\n",
      "47\n",
      "fizz\n",
      "49\n",
      "buzz\n",
      "fizz\n",
      "52\n",
      "53\n",
      "fizz\n",
      "buzz\n",
      "56\n",
      "fizz\n",
      "58\n",
      "59\n",
      "fizz buzz\n",
      "61\n",
      "62\n",
      "fizz\n",
      "64\n",
      "buzz\n",
      "fizz\n",
      "67\n",
      "68\n",
      "fizz\n",
      "buzz\n",
      "71\n",
      "fizz\n",
      "73\n",
      "74\n",
      "fizz buzz\n",
      "76\n",
      "77\n",
      "fizz\n",
      "79\n",
      "buzz\n",
      "fizz\n",
      "82\n",
      "83\n",
      "fizz\n",
      "buzz\n",
      "86\n",
      "fizz\n",
      "88\n",
      "89\n",
      "fizz buzz\n",
      "91\n",
      "92\n",
      "fizz\n",
      "94\n",
      "buzz\n",
      "fizz\n",
      "97\n",
      "98\n",
      "fizz\n",
      "buzz\n"
     ]
    }
   ],
   "source": [
    "for i in range(1,101):\n",
    "    if i%3==0 and i%5==0:\n",
    "        print(\"fizz buzz\")\n",
    "    elif i%3==0:\n",
    "        print(\"fizz\")\n",
    "    elif i%5==0:\n",
    "        print(\"buzz\")\n",
    "    else:\n",
    "        print(i)"
   ]
  }
 ],
 "metadata": {
  "kernelspec": {
   "display_name": "Python 3 (ipykernel)",
   "language": "python",
   "name": "python3"
  },
  "language_info": {
   "codemirror_mode": {
    "name": "ipython",
    "version": 3
   },
   "file_extension": ".py",
   "mimetype": "text/x-python",
   "name": "python",
   "nbconvert_exporter": "python",
   "pygments_lexer": "ipython3",
   "version": "3.9.12"
  }
 },
 "nbformat": 4,
 "nbformat_minor": 5
}
