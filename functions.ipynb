{
 "cells": [
  {
   "cell_type": "markdown",
   "id": "09fcda77",
   "metadata": {},
   "source": [
    "# 1. Compute the Hypotenuse\n",
    "\n",
    "Write a function that takes the lengths of the two shorter sides of a right triangle as\n",
    "its parameters. Return the hypotenuse of the triangle, computed using Pythagorean\n",
    "theorem, as the function’s result. Include a main program that reads the lengths of\n",
    "the shorter sides of a right triangle from the user, uses your function to compute the\n",
    "length of the hypotenuse, and displays the result."
   ]
  },
  {
   "cell_type": "code",
   "execution_count": 5,
   "id": "46697c6f",
   "metadata": {},
   "outputs": [
    {
     "name": "stdout",
     "output_type": "stream",
     "text": [
      "enter lenght of first short side of triangle in cms 3\n",
      "enter lenght of second short side of triangle in cms 4\n",
      "length of third side is 5.00 cm\n"
     ]
    }
   ],
   "source": [
    "def pythogorus(*length):\n",
    "    result=(length[-2]**2+length[-1]**2)**0.5\n",
    "    return result\n",
    "\n",
    "length1=float(input(\"enter lenght of first short side of triangle in cms \"))\n",
    "length2=float(input(\"enter lenght of second short side of triangle in cms \"))\n",
    "result=pythogorus(length1,length2)\n",
    "print(f\"length of third side is {result:0.2f} cm\")"
   ]
  },
  {
   "cell_type": "markdown",
   "id": "890195c0",
   "metadata": {},
   "source": [
    "# 2. Taxi Fare\n",
    "\n",
    "In a particular jurisdiction, taxi fares consist of a base fare of $4.00, plus $0.25\n",
    "for every 140 meters travelled. Write a function that takes the distance travelled (in\n",
    "kilometers) as its only parameter and returns the total fare as its only result. Write a\n",
    "main program that demonstrates the function."
   ]
  },
  {
   "cell_type": "code",
   "execution_count": 10,
   "id": "b6130c0d",
   "metadata": {},
   "outputs": [
    {
     "name": "stdout",
     "output_type": "stream",
     "text": [
      "enter total distance in kms 140\n",
      "total cost for distance 140.00 kms is 254.00 $\n"
     ]
    }
   ],
   "source": [
    "def fare_calculator(distance):\n",
    "    base_fare=4\n",
    "    variable_fare=0.25\n",
    "    dist_vf=140\n",
    "    cost=base_fare+distance*1000*variable_fare/dist_vf\n",
    "    return cost\n",
    "\n",
    "distance=float(input(\"enter total distance in kms \"))\n",
    "total_cost=fare_calculator(distance)\n",
    "print(f\"total cost for distance {distance:0.2f} kms is {total_cost:0.2f} $\")"
   ]
  },
  {
   "cell_type": "markdown",
   "id": "42b40145",
   "metadata": {},
   "source": [
    "# 3. Shipping Calculator\n",
    "\n",
    "An online retailer provides express shipping for many of its items at a rate of $10.95\n",
    "for the first item in an order, and $2.95 for each subsequent item in the same order.\n",
    "Write a function that takes the number of items in the order as its only parameter.\n",
    "Return the shipping charge for the order as the function’s result. Include a main\n",
    "program that reads the number of items purchased from the user and displays the\n",
    "shipping charge. "
   ]
  },
  {
   "cell_type": "code",
   "execution_count": 4,
   "id": "7d08974e",
   "metadata": {},
   "outputs": [
    {
     "name": "stdout",
     "output_type": "stream",
     "text": [
      "Enter totla number of items in order 2\n",
      "shipping charge for all 2 items is 13.90 $\n"
     ]
    }
   ],
   "source": [
    "def shipping_calculator(orders):\n",
    "    first_item_charge=10.95\n",
    "    subsequent_item_charge=2.95\n",
    "    shipping_cost=first_item_charge+subsequent_item_charge * (orders-1)\n",
    "    return shipping_cost\n",
    "total_items=int(input(\"Enter totla number of items in order \"))\n",
    "shipping_charge=shipping_calculator(total_items)\n",
    "print(f\"shipping charge for all {total_items} items is {shipping_charge:0.2f} $\")"
   ]
  },
  {
   "cell_type": "markdown",
   "id": "f159fc9b",
   "metadata": {},
   "source": [
    "# 4.  Median of Three Values\n",
    "\n",
    "Write a function that takes three numbers as parameters, and returns the median value\n",
    "of those parameters as its result. Include a main program that reads three values from\n",
    "the user and displays their median."
   ]
  },
  {
   "cell_type": "code",
   "execution_count": 27,
   "id": "99a539d6",
   "metadata": {},
   "outputs": [
    {
     "name": "stdout",
     "output_type": "stream",
     "text": [
      "enter first number 12\n",
      "enter second number 2\n",
      "enter third number 3\n",
      "3\n"
     ]
    }
   ],
   "source": [
    "import math\n",
    "def median_finder(num1,num2,num3):\n",
    "    num_list=[num1,num2,num3]\n",
    "    num_list.sort()\n",
    "    return num_list[1]\n",
    "num1=int(input(\"enter first number \"))\n",
    "num2=int(input(\"enter second number \"))\n",
    "num3=int(input(\"enter third number \"))\n",
    "median=median_finder(num1,num2,num3)\n",
    "print(median)"
   ]
  },
  {
   "cell_type": "markdown",
   "id": "6e45169c",
   "metadata": {},
   "source": [
    "# 5. Convert an Integer to Its Ordinal Number\n",
    "\n",
    "Words like first, second and third are referred to as ordinal numbers. In this exercise,\n",
    "you will write a function that takes an integer as its only parameter and returns a\n",
    "string containing the appropriate English ordinal number as its only result. Your\n",
    "function must handle the integers between 1 and 12 (inclusive). It should return an\n",
    "empty string if the function is called with an argument outside of this range. Include\n",
    "a main program that demonstrates your function by displaying each integer from 1\n",
    "to 12 and its ordinal number. Your main program should only run when your file has\n",
    "not been imported into another program."
   ]
  },
  {
   "cell_type": "code",
   "execution_count": 10,
   "id": "c91cb1bd",
   "metadata": {},
   "outputs": [
    {
     "name": "stdout",
     "output_type": "stream",
     "text": [
      "Enter integer number -1\n",
      "\n"
     ]
    }
   ],
   "source": [
    "def ordinal_num(num):\n",
    "    ordinal_num_list=[\"first\",\"second\",\"Third\",\"Fourth\",\"Fifth\",\"Sixth\",\"Seventh\",\"Eighth\",\"Ninth\",\"Tenth\",\"Eleventh\",\"Twelfth\"]\n",
    "    if num in range(1,13):return ordinal_num_list[num-1]\n",
    "    else: return \"\"\n",
    "num=int(input(\"Enter integer number \"))\n",
    "ordinal=ordinal_num(num)\n",
    "print(ordinal)"
   ]
  },
  {
   "cell_type": "markdown",
   "id": "5a345340",
   "metadata": {},
   "source": [
    "# 6. Gregorian Date to Ordinal Date\n",
    "\n",
    "An ordinal date consists of a year and a day within it, both of which are integers. The\n",
    "year can be any year in the Gregorian calendar while the day within the year ranges\n",
    "from one, which represents January 1, through to 365 (or 366 if the year is a leap\n",
    "year) which represents December 31. Ordinal dates are convenient when computing\n",
    "differences between dates that are a specific number of days (rather than months). For\n",
    "example, ordinal dates can be used to easily determine whether a customer is within\n",
    "a 90 day return period, the sell-by date for a food-product based on its production\n",
    "date, and the due date for a baby.\n",
    "Write a function named ordinalDate that takes three integers as parameters.\n",
    "These parameters will be a day, month and year respectively. The function should\n",
    "return the day within the year for that date as its only result. Create a main program\n",
    "that reads a day, month and year from the user and displays the day within the year for\n",
    "that date. Your main program should only run when your file has not been imported\n",
    "into another program."
   ]
  },
  {
   "cell_type": "code",
   "execution_count": 34,
   "id": "dfef7b30",
   "metadata": {},
   "outputs": [
    {
     "name": "stdout",
     "output_type": "stream",
     "text": [
      "Enter day 29\n",
      "Enter month 2\n",
      "Enter year 2000\n",
      "60\n",
      "Enter day 60\n",
      "Enter year 2001\n",
      "1 3\n"
     ]
    }
   ],
   "source": [
    "def is_leap_year(year):\n",
    "    \"\"\" this fuction check if given year is leap year or not. returns True if year is leap year else it returns False\"\"\"\n",
    "    if year%400==0 or (year%100!=0 and year%4==0):\n",
    "        return True\n",
    "    else:\n",
    "        return False\n",
    "\n",
    "def ordinal_date(day,month,year):\n",
    "    \"\"\"This function converts Gregorian Date to Ordinal Date\"\"\"\n",
    "    date=0\n",
    "    days_of_month=[31,28,31,30,31,30,31,31,30,31,30]\n",
    "    if is_leap_year(year) and month>2:\n",
    "        date+=1\n",
    "    for num in range(month-1):\n",
    "        date+=days_of_month[num]\n",
    "    date=date+day\n",
    "    return date\n",
    "def gregorian_date(day,year):\n",
    "    \"\"\"This function converts Ordinal Date to Gregorian Date\"\"\"\n",
    "    days_of_month=[31,28,31,30,31,30,31,31,30,31,30]\n",
    "    if is_leap_year(year):\n",
    "        days_of_month[1]=29\n",
    "    for i,month in enumerate(days_of_month):\n",
    "        if day>month:\n",
    "            day=day-month\n",
    "        else: return day,i+1\n",
    "gregorian_day=int(input(\"Enter day \"))\n",
    "gregorian_month=int(input(\"Enter month \"))\n",
    "gregorian_year=int(input(\"Enter year \"))\n",
    "\n",
    "ordinal_date=ordinal_date(gregorian_day,gregorian_month,gregorian_year)\n",
    "print(ordinal_date)\n",
    "\n",
    "ordinal_day=int(input(\"Enter day \"))\n",
    "ordinal_year=int(input(\"Enter year \"))\n",
    "gregorian_day,gregorian_month=gregorian_date(ordinal_day,ordinal_year)\n",
    "print(gregorian_day,gregorian_month)"
   ]
  },
  {
   "cell_type": "markdown",
   "id": "8317257d",
   "metadata": {},
   "source": [
    "# 7. Center a String in the Terminal Window\n",
    "\n",
    "Write a function that takes a string, s, as its first parameter, and the width of the\n",
    "window in characters, w, as its second parameter. Your function will return a new\n",
    "string that includes whatever leading spaces are needed so that s will be centered in\n",
    "the window when the new string is printed. The new string should be constructed in\n",
    "the following manner:\n",
    "• If the length of s is greater than or equal to the width of the window then s should\n",
    "be returned.\n",
    "• If the length of s is less than the width of the window then a string containing\n",
    "(len(s) - w) // 2 spaces followed by s should be returned.\n",
    "Write a main program that demonstrates your function by displaying multiple\n",
    "strings centered in the window."
   ]
  },
  {
   "cell_type": "code",
   "execution_count": 40,
   "id": "04e37873",
   "metadata": {},
   "outputs": [
    {
     "name": "stdout",
     "output_type": "stream",
     "text": [
      "enter string dinesh \n",
      "enter width of window 15\n",
      "    dinesh \n"
     ]
    }
   ],
   "source": [
    "def string_customizor(s,w):\n",
    "    if len(s)>=w:return s\n",
    "    else: return \" \"*((w-len(s))//2)+s\n",
    "str1=input(\"enter string \")\n",
    "width=int(input(\"enter width of window \"))\n",
    "result=string_customizor(str1,width)\n",
    "print(result)"
   ]
  },
  {
   "cell_type": "markdown",
   "id": "e7c73988",
   "metadata": {},
   "source": [
    "# 8.  Is It a Valid Triangle?\n",
    "\n",
    "If you have 3 straws, possibly of differing lengths, it may or may not be possible\n",
    "to lay them down so that they form a triangle when their ends are touching. For\n",
    "example, if all of the straws have a length of 6 inches then one can easily construct\n",
    "an equilateral triangle using them. However, if one straw is 6 inches long, while\n",
    "the other two are each only 2 inches long, then a triangle cannot be formed. More\n",
    "generally, if any one length is greater than or equal to the sum of the other two then\n",
    "the lengths cannot be used to form a triangle. Otherwise they can form a triangle.\n",
    "Write a function that determines whether or not three lengths can form a triangle.\n",
    "The function will take 3 parameters and return a Boolean result. If any of the lengths\n",
    "are less than or equal to 0 then your function should return False. Otherwise it\n",
    "should determine whether or not the lengths can be used to form a triangle using\n",
    "the method described in the previous paragraph, and return the appropriate result.\n",
    "In addition, write a program that reads 3 lengths from the user and demonstrates the\n",
    "behaviour of your function."
   ]
  },
  {
   "cell_type": "code",
   "execution_count": 55,
   "id": "edc6c20d",
   "metadata": {},
   "outputs": [
    {
     "name": "stdout",
     "output_type": "stream",
     "text": [
      "Enter length of first straw 12\n",
      "Enter length of second straw 6\n",
      "Enter length of third straw 7\n",
      "True\n"
     ]
    }
   ],
   "source": [
    "def is_triangle(side1,side2,side3):\n",
    "    return side1<side2+side3 and side2<side1+side3 and side3<side2+side1\n",
    "\n",
    "side1=float(input(\"Enter length of first straw \"))\n",
    "side2=float(input(\"Enter length of second straw \"))\n",
    "side3=float(input(\"Enter length of third straw \"))\n",
    "print(is_triangle(side1,side2,side3))\n",
    "\n",
    "    "
   ]
  },
  {
   "cell_type": "markdown",
   "id": "bdb3bd4a",
   "metadata": {},
   "source": [
    "# 9. Capitalize It\n",
    "\n",
    "Many people do not use capital letters correctly, especially when typing on small\n",
    "devices like smart phones. To help address this situation, you will create a function\n",
    "that takes a string as its only parameter and returns a new copy of the string that has\n",
    "been correctly capitalized. In particular, your function must:\n",
    "• Capitalize the first non-space character in the string,\n",
    "• Capitalize the first non-space character after a period, exclamation mark or question\n",
    "mark, and\n",
    "• Capitalize a lowercase “i” if it is preceded by a space and followed by a space,\n",
    "period, exclamation mark, question mark or apostrophe.\n",
    "Implementing these transformations will correct most capitalization errors. For\n",
    "example, if the function is provided with the string “what time do i have to be there?\n",
    "what’s the address? this time i’ll try to be on time!” then it should return the string\n",
    "“What time do I have to be there? What’s the address? This time I’ll try to be on\n",
    "time!”. Include a main program that reads a string from the user, capitalizes it using\n",
    "your function, and displays the result."
   ]
  },
  {
   "cell_type": "code",
   "execution_count": 111,
   "id": "d4b00f1e",
   "metadata": {},
   "outputs": [
    {
     "name": "stdout",
     "output_type": "stream",
     "text": [
      "Enter string what time do i have to be there? what’s the address? this time i'll try to be on time!\n",
      "What time do I have to be there? What’s  the address? This  time I'll try to be on time! \n"
     ]
    }
   ],
   "source": [
    "def capitalize(s):\n",
    "    strg=s.split()\n",
    "    output=\"\"\n",
    "    strg[0]=strg[0].capitalize()\n",
    "    if strg[0].startswith('\\\"'):\n",
    "        print(True)\n",
    "    for i,s1 in enumerate(strg):\n",
    "        if s1== \"i\" or s1.startswith(\"i'\") or s1.startswith(\"i?\") or s1.startswith(\"i`\")or s1.startswith(\"i!\") or s1.startswith(\"i.\"): output+=s1.capitalize()+\" \"\n",
    "        elif s1[-1] in [\"?\",\"!\",\".\"] and i<(len(strg)-1):\n",
    "            output+=s1+\" \"\n",
    "            strg[i+1]=strg[i+1].capitalize()+\" \"\n",
    "        else: output+=s1+\" \"\n",
    "    return output\n",
    "s=input(\"Enter string \")\n",
    "output=capitalize(s)\n",
    "print(output)"
   ]
  },
  {
   "cell_type": "markdown",
   "id": "5286fc5a",
   "metadata": {},
   "source": [
    "# 10. Does a String Represent an Integer?\n",
    "\n",
    "In this exercise you will write a function named isInteger that determines\n",
    "whether or not the characters in a string represent a valid integer. When determining if a string represents an integer you should ignore any leading or trailing\n",
    "white space. Once this white space is ignored, a string represents an integer if its\n",
    "length is at least one and it only contains digits, or if its first character is either +\n",
    "or - and the first character is followed by one or more characters, all of which are\n",
    "digits.\n",
    "Write a main program that reads a string from the user and reports whether or\n",
    "not it represents an integer. Ensure that the main program will not run if the file\n",
    "containing your solution is imported into another program."
   ]
  },
  {
   "cell_type": "code",
   "execution_count": 2,
   "id": "5c8b18dc",
   "metadata": {},
   "outputs": [
    {
     "name": "stdout",
     "output_type": "stream",
     "text": [
      "enter string d\n",
      "d\n",
      "False\n"
     ]
    },
    {
     "data": {
      "text/plain": [
       "False"
      ]
     },
     "execution_count": 2,
     "metadata": {},
     "output_type": "execute_result"
    }
   ],
   "source": [
    "def is_integer(s):\n",
    "    che=0\n",
    "    for i in s:\n",
    "        if i in [\"+\",\"-\",\" \",\"0\",\"1\",\"2\",\"3\",\"4\",\"5\",\"6\",\"7\",\"8\",\"9\"]:continue\n",
    "        else:\n",
    "            print(i)\n",
    "            print(False)\n",
    "            return False\n",
    "        \n",
    "    else: return True\n",
    "s=input(\"enter string \")\n",
    "is_integer(s)"
   ]
  }
 ],
 "metadata": {
  "kernelspec": {
   "display_name": "Python 3 (ipykernel)",
   "language": "python",
   "name": "python3"
  },
  "language_info": {
   "codemirror_mode": {
    "name": "ipython",
    "version": 3
   },
   "file_extension": ".py",
   "mimetype": "text/x-python",
   "name": "python",
   "nbconvert_exporter": "python",
   "pygments_lexer": "ipython3",
   "version": "3.9.12"
  }
 },
 "nbformat": 4,
 "nbformat_minor": 5
}
