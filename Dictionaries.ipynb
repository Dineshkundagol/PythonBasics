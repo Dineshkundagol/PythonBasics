{
 "cells": [
  {
   "cell_type": "markdown",
   "id": "0aff1466",
   "metadata": {},
   "source": [
    "# 1.  Reverse Lookup\n",
    "\n",
    "Write a function named reverseLookup that finds all of the keys in a dictionary\n",
    "that map to a specific value. The function will take the dictionary and the value to\n",
    "search for as its only parameters. It will return a (possibly empty) list of keys from\n",
    "the dictionary that map to the provided value.\n",
    "Include a main program that demonstrates the reverseLookup function as part\n",
    "of your solution to this exercise. Your program should create a dictionary and then\n",
    "show that the reverseLookup function works correctly when it returns multiple\n",
    "keys, a single key, and no keys. Ensure that your main program only runs when\n",
    "the file containing your solution to this exercise has not been imported into another\n",
    "program."
   ]
  },
  {
   "cell_type": "code",
   "execution_count": 25,
   "id": "53e353a0",
   "metadata": {},
   "outputs": [
    {
     "name": "stdout",
     "output_type": "stream",
     "text": [
      "enter key and value seprated by ':' and key-value pair by space 1:2 2:3 3:4 5:1\n",
      "{'1': '2', '2': '3', '3': '4', '5': '1'}\n",
      "Enter refernce value 1\n",
      "list of keys refrece to 1 are ['5']\n"
     ]
    }
   ],
   "source": [
    "def reverse_lookup(dict1, value_ref):\n",
    "    return [key for key,value in dict1.items() if value== value_ref]\n",
    "\n",
    "\n",
    "def main():\n",
    "    userinput=input(\"enter key and value seprated by ':' and key-value pair by space \")\n",
    "    list1=userinput.split()\n",
    "    dict1={}\n",
    "    for pair in list1:\n",
    "        key,value=pair.split(\":\")\n",
    "        dict1[key]=value\n",
    "    print(dict1)\n",
    "    value_ref= input(\"Enter refernce value \")\n",
    "    print (f\"list of keys refrece to {value_ref} are {reverse_lookup(dict1, value_ref)}\")\n",
    "if __name__== '__main__':\n",
    "    main()"
   ]
  },
  {
   "cell_type": "markdown",
   "id": "265f74be",
   "metadata": {},
   "source": [
    "# 2.  Two Dice Simulation\n",
    "\n",
    "In this exercise you will simulate 1,000 rolls of two dice. Begin by writing a function that simulates rolling a pair of six-sided dice. Your function will not take any\n",
    "parameters. It will return the total that was rolled on two dice as its only result.\n",
    "Write a main program that uses your function to simulate rolling two six-sided\n",
    "dice 1,000 times. As your program runs, it should count the number of times that\n",
    "each total occurs. Then it should display a table that summarizes this data. Express\n",
    "the frequency for each total as a percentage of the number of rolls performed. Your\n",
    "program should also display the percentage expected by probability theory for each\n",
    "total. Sample output is shown below.\n",
    "Total Simulated Expected\n",
    "        Percent Percent\n",
    "    2   2.90     2.78\n",
    "    3   6.90     5.56\n",
    "    4   9.40     8.33\n",
    "    5   11.90    11.11\n",
    "    6   14.20    13.89\n",
    "    7   14.20    16.67\n",
    "    8   15.00    13.89\n",
    "    9   10.50    11.11\n",
    "    10  7.90     8.33\n",
    "    11  4.50     5.56\n",
    "    12  2.60     2.78"
   ]
  },
  {
   "cell_type": "code",
   "execution_count": 58,
   "id": "c0423c5f",
   "metadata": {},
   "outputs": [
    {
     "name": "stdout",
     "output_type": "stream",
     "text": [
      "Total\t Simulated%\t expected%\n",
      "2\t 2.40\t\t 2.78\n",
      "3\t 5.90\t\t 5.56\n",
      "4\t 8.50\t\t 8.33\n",
      "5\t 12.30\t\t 11.11\n",
      "6\t 13.00\t\t 13.89\n",
      "7\t 17.40\t\t 16.67\n",
      "8\t 14.50\t\t 13.89\n",
      "9\t 9.80\t\t 11.11\n",
      "10\t 7.40\t\t 8.33\n",
      "11\t 5.90\t\t 5.56\n",
      "12\t 2.90\t\t 2.78\n"
     ]
    }
   ],
   "source": [
    "from random import randint \n",
    "\n",
    "def dice():\n",
    "    #randum output of 2 dice of face 1 to 6\n",
    "    return randint(1,6)+randint(1,6)\n",
    "    \n",
    "def main(): \n",
    "    #percentage of probability of occurance of num 2 to 12 is stored in below dictionary\n",
    "    expected_prob={2:1*100/36,3:2*100/36,4:3*100/36,5:4*100/36,6:5*100/36,7:6*100/36,8:5*100/36,9:4*100/36,10:3*100/36,11:2*100/36,12:1*100/36}\n",
    "    # total occurance of num from 2 to 12 in an experiment of 100 times stored in below dictionary\n",
    "    total_occurance={2:0,3:0,4:0,5:0,6:0,7:0,8:0,9:0,10:0,11:0,12:0}\n",
    "    for i in range(1000):\n",
    "        output=dice()\n",
    "        total_occurance[output]+=1\n",
    "    #percentage of occurance of 1000 times rolling 2 dice\n",
    "    print(f\"Total\\t Simulated%\\t expected%\")\n",
    "    for key in total_occurance:\n",
    "        total_occurance[key]=total_occurance[key]/10\n",
    "        print(f\"{key}\\t {total_occurance[key]:0.2f}\\t\\t {expected_prob[key]:0.2f}\")\n",
    "        \n",
    "\n",
    "    \n",
    "if __name__==\"__main__\":\n",
    "    main()\n",
    "   "
   ]
  },
  {
   "cell_type": "markdown",
   "id": "c64e990c",
   "metadata": {},
   "source": [
    "# 3. Text Messaging\n",
    "(21 Lines)\n",
    "On some basic cell phones, text messages can be sent using the numeric keypad.\n",
    "Because each key has multiple letters associated with it, multiple key presses are\n",
    "needed for most letters. Pressing the number once generates the first character listed\n",
    "for that key. Pressing the number 2, 3, 4 or 5 times generates the second, third, fourth\n",
    "or fifth character.\n",
    "Key Symbols\n",
    "1 .,?!:\n",
    "2 ABC\n",
    "3 DEF\n",
    "4 GHI\n",
    "5 JKL\n",
    "6 MNO\n",
    "7 PQRS\n",
    "8 TUV\n",
    "9 WXYZ\n",
    "0 space\n",
    "Write a program that displays the key presses needed for a message entered by the\n",
    "user. Construct a dictionary that maps from each letter or symbol to the key presses\n",
    "needed to generate it. Then use the dictionary to create and display the presses needed\n",
    "for the user’s message. For example, if the user enters Hello, World! then your\n",
    "program should output 4433555555666110966677755531111. Ensure that\n",
    "your program handles both uppercase and lowercase letters. Ignore any characters\n",
    "that aren’t listed in the table above such as semicolons and parentheses."
   ]
  },
  {
   "cell_type": "code",
   "execution_count": 72,
   "id": "3911466f",
   "metadata": {},
   "outputs": [
    {
     "name": "stdout",
     "output_type": "stream",
     "text": [
      "enter message dinesh\n",
      "the corresponding buttons for message 'dinesh' is 33444466633377777444\n"
     ]
    }
   ],
   "source": [
    "def numeric_key(text):\n",
    "    #dictionary for eac button and corresponding alphabet or number or symbol\n",
    "    symbols={'0':('0',\" \"),\n",
    "            '1':('1','.',',','?','!',':'),\n",
    "            '2':('2','a','b','c'),\n",
    "            '3':('3','d','e','f'),\n",
    "            '4':('4','g','h','i'),\n",
    "            '5':('5','j','k','l'),\n",
    "            '6':('6','m','n','o'),\n",
    "            '7':('7','p','q','r','s'),\n",
    "            '8':('8','t','u','v'),\n",
    "            '9':('9','w','x','y','z')}\n",
    "    output=\"\"\n",
    "    for letter in text.lower():\n",
    "        for key in symbols:\n",
    "            if letter in symbols[key]:\n",
    "                output+=key*(symbols[key].index(letter)+1)\n",
    "    return output\n",
    "\n",
    "text=input(\"enter message \")\n",
    "print(f\"the corresponding buttons for message '{text}' is {int(numeric_key(text))}\")\n",
    "            \n",
    "        "
   ]
  },
  {
   "cell_type": "markdown",
   "id": "a915f79c",
   "metadata": {},
   "source": [
    "# 4. Morse Code\n",
    "\n",
    "Morse code is an encoding scheme that uses dashes and dots to represent digits and\n",
    "letters. In this exercise, you will write a program that uses a dictionary to store the\n",
    "mapping from these symbols to Morse code. Use a period to represent a dot, and\n",
    "a hyphen to represent a dash. The mapping from characters to dashes and dots is\n",
    "shown in Table 6.1.\n",
    "Your program should read a message from the user. Then it should translate all of\n",
    "the letters and digits in the message to Morse code, leaving a space between each\n",
    "sequence of dashes and dots. Your program should ignore any characters that are not\n",
    "listed in the previous table. The Morse code for Hello, World! is shown below:\n",
    ".... . .-.. .-.. --- .-- --- .-. .-.. -..\n",
    "\n",
    "Table 6.1 Morse code for letters and numerals\n",
    "Character Code Character Code Character Code Character Code\n",
    "A .- J .- - - S ... 1 .- - - -\n",
    "B -... K -.- T - 2 ..- - -\n",
    "C -.-. L .-.. U ..- 3 ...- -\n",
    "D -.. M - - V ...- 4 ....-\n",
    "E . N -. W .- - 5 .....\n",
    "F ..-. O --- X -..- 6 -....\n",
    "G - -. P .- -. Y -.- - 7 - -...\n",
    "H .... Q - -.- Z - -.. 8 - - -..\n",
    "I .. R .-. 0 ----- 9 - - - -."
   ]
  },
  {
   "cell_type": "code",
   "execution_count": 82,
   "id": "bd774173",
   "metadata": {},
   "outputs": [
    {
     "name": "stdout",
     "output_type": "stream",
     "text": [
      "enter message1a 2?.\n",
      ".---- .- ..---\n"
     ]
    }
   ],
   "source": [
    "morse_code={'a':'.-','b':'-...','c':'-.-.','d':'-..','e':'.','f':'..-.','g':'--.','h':'....','i':'..','j':'.---',\n",
    "            'k':'-.-','l':'.-..','m':'--','n':'-.','o':'---','p':'.--.','q':'--.-','r':'.-.','s':'...','t':'-',\n",
    "            'u':'..-','v':'...-','w':'.--','x':'-..-','y':'-.--','z':'--..','0':'-----','1':'.----','2':'..---','3':'...--',\n",
    "            '4':'....-','5':'.....','6':'-....','7':'--...','8':'---..','9':'----.'}\n",
    "def to_morse(text):\n",
    "    output=\"\"\n",
    "    output=[output+morse_code[letter] for letter in text.lower() if letter in morse_code.keys()]\n",
    "    return \" \".join(output)\n",
    "\n",
    "text=input(\"enter message \")\n",
    "print(to_morse(text))\n",
    "            "
   ]
  },
  {
   "cell_type": "markdown",
   "id": "d4ee19bf",
   "metadata": {},
   "source": [
    "# 5.  Postal Codes\n",
    "(24 Lines)\n",
    "The first, third and fifth characters in a Canadian postal code are letters while the\n",
    "second, fourth and sixth characters are digits. The province or territory in which an\n",
    "address resides can be determined from the first character of its postal code, as shown\n",
    "in the following table. No valid postal codes currently begin with D, F, I, O, Q, U,\n",
    "W, or Z.\n",
    "Province / Territory First Character(s)\n",
    "Newfoundland              A\n",
    "Nova Scotia               B\n",
    "Prince Edward Island      C\n",
    "New Brunswick             E\n",
    "Quebec                G, H and J\n",
    "Ontario               K, L, M, N and P\n",
    "Manitoba                  R\n",
    "Saskatchewan              S\n",
    "Alberta                   T\n",
    "British Columbia          V\n",
    "Nunavut                   X\n",
    "Northwest Territories     X\n",
    "Yukon                     Y\n",
    "    The second character in a postal code identifies whether the address is rural or\n",
    "urban. If that character is a 0 then the address is rural. Otherwise it is urban.\n",
    "Create a program that reads a postal code from the user and displays the province\n",
    "or territory associated with it, along with whether the address is urban or rural. For\n",
    "example, if the user enters T2N 1N4 then your program should indicate that the\n",
    "postal code is for an urban address in Alberta. If the user enters X0A 1B2 then your\n",
    "program should indicate that the postal code is for a rural address in Nunavut or\n",
    "Northwest Territories. Use a dictionary to map from the first character of the postal\n",
    "code to the province or territory name. Display a meaningful error message if the\n",
    "postal code begins with an invalid character, or if the second character in the postal\n",
    "code is not a digit."
   ]
  },
  {
   "cell_type": "code",
   "execution_count": 97,
   "id": "bba713ce",
   "metadata": {},
   "outputs": [
    {
     "name": "stdout",
     "output_type": "stream",
     "text": [
      "Enter postal code x0A 1B2\n",
      "provinces for X0A 1B2 is/are ['Nunavut', 'Northwest Territories'] and its rural area\n"
     ]
    }
   ],
   "source": [
    "canada_province={'Newfoundland':('A'),'Nova Scotia':('B'),'Prince Edward Island': ('C'),'New Brunswick':('E'),\n",
    "                 'Quebec':('G', 'H', 'J'),'Ontario':('K', 'L', 'M', 'N','P'),'Manitoba':('R'),'Saskatchewan':('S'),\n",
    "                 'Alberta':('T'),'British Columbia':('V'),'Nunavut':('X'),'Northwest Territories':('X'),'Yukon':('Y')}\n",
    "def province_check(postal_code):\n",
    "    return [key for key,value in canada_province.items() if postal_code[0] in value], 'rural' if postal_code[1]==\"0\" else 'urban'\n",
    "\n",
    "postal_code=input(\"Enter postal code \").upper()\n",
    "if postal_code[0] in canada_province.values() and postal_code[1].isnumeric():\n",
    "    province,area=province_check(postal_code)\n",
    "    print(f\"provinces for {postal_code} is/are {province} and its {area} area\")\n",
    "else: print(\"invalid postal code please check and try again\")\n",
    "    "
   ]
  },
  {
   "cell_type": "markdown",
   "id": "32b74aba",
   "metadata": {},
   "source": [
    "# 6. Write out Numbers in English\n",
    "\n",
    "While the popularity of cheques as a payment method has diminished in recent years,\n",
    "some companies still issue them to pay employees or vendors. The amount being\n",
    "paid normally appears on a cheque twice, with one occurrence written using digits,\n",
    "and the other occurrence written using English words. Repeating the amount in two\n",
    "different forms makes it much more difficult for an unscrupulous employee or vendor\n",
    "to modify the amount on the cheque before depositing it.\n",
    "In this exercise, your task is to create a function that takes an integer between 0 and\n",
    "999 as its only parameter, and returns a string containing the English words for that\n",
    "number. For example, if the parameter to the function is 142 then your function should\n",
    "return “one hundred forty two”. Use one or more dictionaries to implement\n",
    "your solution rather than large if/elif/else constructs. Include a main program that\n",
    "reads an integer from the user and displays its value in English words."
   ]
  },
  {
   "cell_type": "code",
   "execution_count": 115,
   "id": "4296fe6f",
   "metadata": {},
   "outputs": [
    {
     "name": "stdout",
     "output_type": "stream",
     "text": [
      "enter number between 0 to 999 999\n",
      "999 in words is Nine hundred Ninty Nine\n"
     ]
    }
   ],
   "source": [
    "word_num={0:\"Zero\",1:\"One\", 2:\"Two\", 3:\"Three\",4:\"Four\",5:\"Five\",6:\"Six\",7:\"Seven\",8:\"Eight\",9:\"Nine\",10:\"Ten\",\n",
    "          11:\"Eleven\",12:\"Twelve\",13:\"Thirteen\",14:\"Fourteen\",15:\"Fifteen\",16:\"Sixteen\",17:\"Seventeen\",18:\"Eighteen\",\n",
    "          19:\"Nineteen\",20:\"Twenty\",30:\"Thirty\",40:\"Fourty\",50:\"Fifty\",60:\"Sixty\",70:\"Seventy\",80:\"Eighty\",90:\"Ninty\"}\n",
    "def num_to_word(num):\n",
    "    if num<=20:\n",
    "        return word_num[num]\n",
    "    elif num<100:\n",
    "        return word_num[(num//10)*10]+\" \"+word_num[num%10]\n",
    "    elif num<1000:\n",
    "        if (num%100)<=20:\n",
    "            return word_num[(num//100)]+\" hundred \"+word_num[(num%100)]\n",
    "        else:\n",
    "            return word_num[(num//100)]+\" hundred \"+word_num[((num%100)//10)*10]+\" \"+word_num[num%10]\n",
    "\n",
    "    \n",
    "num=int(input(\"enter number between 0 to 999 \"))\n",
    "print(f\"{num} in words is {num_to_word(num)}\")"
   ]
  },
  {
   "cell_type": "markdown",
   "id": "44ed24f0",
   "metadata": {},
   "source": [
    "# 7. Unique Characters\n",
    "\n",
    "Create a program that determines and displays the number of unique characters in a\n",
    "string entered by the user. For example, Hello, World! has 10 unique characters\n",
    "whilezzzhas only one unique character. Use a dictionary or set to solve this problem."
   ]
  },
  {
   "cell_type": "code",
   "execution_count": 122,
   "id": "7353f5ff",
   "metadata": {},
   "outputs": [
    {
     "name": "stdout",
     "output_type": "stream",
     "text": [
      "ennter sentence 12qwqw12@@\n",
      "12qwqw12@@ has 5 unique characters\n"
     ]
    }
   ],
   "source": [
    "text=input(\"ennter sentence \")\n",
    "text_set=len(set(list(text)))\n",
    "print(f\"{text} has {text_set} unique characters\")"
   ]
  },
  {
   "cell_type": "markdown",
   "id": "43dfc6be",
   "metadata": {},
   "source": [
    "# 8. Anagrams\n",
    "\n",
    "Two words are anagrams if they contain all of the same letters, but in a different\n",
    "order. For example, “evil” and “live” are anagrams because each contains one “e”,\n",
    "one “i”, one “l”, and one “v”. Create a program that reads two strings from the user,\n",
    "determines whether or not they are anagrams, and reports the result."
   ]
  },
  {
   "cell_type": "code",
   "execution_count": 134,
   "id": "6a26f88e",
   "metadata": {},
   "outputs": [
    {
     "name": "stdout",
     "output_type": "stream",
     "text": [
      "enter first word evil\n",
      "enter second word live\n",
      "evil and live are anagrams\n"
     ]
    }
   ],
   "source": [
    "word1=input(\"enter first word \")\n",
    "word2=input(\"enter second word \")\n",
    "word1_list=list(word1.upper())\n",
    "word2_list=list(word2.upper())\n",
    "word1_list.sort()\n",
    "word2_list.sort()\n",
    "print(f\"{word1} and {word2} are anagrams\") if word1_list==word2_list else print(f\"{word1} and {word2} are not anagrams\")\n"
   ]
  },
  {
   "cell_type": "markdown",
   "id": "241ca3c0",
   "metadata": {},
   "source": [
    "# 9.  Anagrams Again\n",
    "\n",
    "The notion of anagrams can be extended to multiple words. For example, “William\n",
    "Shakespeare” and “I am a weakish speller” are anagrams when capitalization and\n",
    "spacing are ignored.\n",
    "Extend your program from Exercise 143 so that it is able to check if two phrases\n",
    "are anagrams. Your program should ignore capitalization, punctuation marks and\n",
    "spacing when making the determination."
   ]
  },
  {
   "cell_type": "code",
   "execution_count": 142,
   "id": "f2b76d68",
   "metadata": {},
   "outputs": [
    {
     "name": "stdout",
     "output_type": "stream",
     "text": [
      "enter first sentence William Shakespeare\n",
      "enter second sentence I am a weakish speller\n",
      "William Shakespeare and I am a weakish speller are anagrams\n"
     ]
    }
   ],
   "source": [
    "def sentence_list(sentence):\n",
    "    letters=[]\n",
    "    for letter in sentence.upper():\n",
    "        if letter.isalpha():\n",
    "            letters.append(letter)\n",
    "    letters.sort()\n",
    "    return letters\n",
    "sentence1=input(\"enter first sentence \")\n",
    "sentence2=input(\"enter second sentence \")\n",
    "print(f\"{sentence1} and {sentence2} are anagrams\") if sentence_list(sentence1)==sentence_list(sentence2)else print(f\"{sentence1} and {sentence2} are not anagrams\")\n"
   ]
  },
  {
   "cell_type": "markdown",
   "id": "ae2fd980",
   "metadata": {},
   "source": [
    "# 10. Scrabble™ Score\n",
    "(Solved, 18 Lines)\n",
    "In the game of Scrabble™, each letter has points associated with it. The total score\n",
    "of a word is the sum of the scores of its letters. More common letters are worth fewer\n",
    "points while less common letters are worth more points. The points associated with\n",
    "each letter are shown below:\n",
    "Points Letters\n",
    "1 A, E, I, L, N, O, R, S, T and U\n",
    "2 D and G\n",
    "3 B, C, M and P\n",
    "4 F, H, V, W and Y\n",
    "5 K\n",
    "8 J and X\n",
    "10 Q and Z\n",
    "Write a program that computes and displays the Scrabble™ score for a word.\n",
    "Create a dictionary that maps from letters to point values. Then use the dictionary to\n",
    "compute the score."
   ]
  },
  {
   "cell_type": "code",
   "execution_count": 145,
   "id": "6a09e3c6",
   "metadata": {},
   "outputs": [
    {
     "name": "stdout",
     "output_type": "stream",
     "text": [
      "Enter sting with only alphabets dinesh p kundagol\n",
      "Scrabble score of entered string dinesh p kundagol is 27\n"
     ]
    }
   ],
   "source": [
    "letters={'a':1,'b':3,'c':3,'d':2,'e':1,'f':4,'g':2,'h':4,'i':1,'j':8,'k':5,'l':1,'m':3,'n':1,'o':1,'p':3,'q':10,'r':1,\n",
    "         's':1,'t':1,'u':1,'v':4,'w':4,'x':8,'y':4,'z':10}\n",
    "text=input(\"Enter sting with only alphabets \")\n",
    "score=0\n",
    "for letter in text.lower():\n",
    "    if letter.isalpha():\n",
    "        score= score+letters[letter]\n",
    "        \n",
    "print(f\"Scrabble score of entered string {text} is {score}\")"
   ]
  }
 ],
 "metadata": {
  "kernelspec": {
   "display_name": "Python 3 (ipykernel)",
   "language": "python",
   "name": "python3"
  },
  "language_info": {
   "codemirror_mode": {
    "name": "ipython",
    "version": 3
   },
   "file_extension": ".py",
   "mimetype": "text/x-python",
   "name": "python",
   "nbconvert_exporter": "python",
   "pygments_lexer": "ipython3",
   "version": "3.9.12"
  }
 },
 "nbformat": 4,
 "nbformat_minor": 5
}
