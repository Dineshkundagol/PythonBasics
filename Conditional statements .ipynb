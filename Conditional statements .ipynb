{
 "cells": [
  {
   "cell_type": "markdown",
   "id": "739e7c46",
   "metadata": {},
   "source": [
    "# 1. Even or Odd?\n",
    "\n",
    "Write a program that reads an integer from the user. Then your program should\n",
    "display a message indicating whether the integer is even or odd."
   ]
  },
  {
   "cell_type": "code",
   "execution_count": 4,
   "id": "0f552652",
   "metadata": {
    "scrolled": true
   },
   "outputs": [
    {
     "name": "stdout",
     "output_type": "stream",
     "text": [
      "Enter an integer1234567890\n",
      "given interger 1234567890 is even integer\n"
     ]
    }
   ],
   "source": [
    "num=int(input(\"Enter an integer\"))\n",
    "if num%2==0:\n",
    "    print(f\"given interger {num} is even integer\")\n",
    "else:\n",
    "    print(f\"given interger {num} is odd integer\")"
   ]
  },
  {
   "cell_type": "markdown",
   "id": "7016e329",
   "metadata": {},
   "source": [
    "# 2. Dog Years\n",
    "\n",
    "It is commonly said that one human year is equivalent to 7 dog years. However this\n",
    "simple conversion fails to recognize that dogs reach adulthood in approximately two\n",
    "years. As a result, some people believe that it is better to count each of the first two\n",
    "human years as 10.5 dog years, and then count each additional human year as 4 dog\n",
    "years.\n",
    "Write a program that implements the conversion from human years to dog years\n",
    "described in the previous paragraph. Ensure that your program works correctly for\n",
    "conversions of less than two human years and for conversions of two or more human\n",
    "years. Your program should display an appropriate error message if the user enters\n",
    "a negative number."
   ]
  },
  {
   "cell_type": "code",
   "execution_count": 10,
   "id": "649f69a7",
   "metadata": {},
   "outputs": [
    {
     "name": "stdout",
     "output_type": "stream",
     "text": [
      "Enter human year4.5\n",
      "given 4.5 is equivalant to 31.0 dog year\n"
     ]
    }
   ],
   "source": [
    "human_year= float(input(\"Enter human year\"))\n",
    "if human_year>=0:\n",
    "    if human_year<=2:\n",
    "        dog_year= human_year*10.5\n",
    "    else:\n",
    "        dog_year= 2*10.5 + (human_year-2)*4\n",
    "    print(f\"given {human_year} is equivalant to {dog_year} dog year\")\n",
    "\n",
    "else:\n",
    "    print(\"invalid input, input is negative number\")"
   ]
  },
  {
   "cell_type": "markdown",
   "id": "0ea35829",
   "metadata": {},
   "source": [
    "# 3. Vowel or Consonant\n",
    "\n",
    "In this exercise you will create a program that reads a letter of the alphabet from the\n",
    "user. If the user enters a, e, i, o or u then your program should display a message\n",
    "indicating that the entered letter is a vowel. If the user enters y then your program\n",
    "should display a message indicating that sometimes y is a vowel, and sometimes y is\n",
    "a consonant. Otherwise your program should display a message indicating that the\n",
    "letter is a consonant."
   ]
  },
  {
   "cell_type": "code",
   "execution_count": 21,
   "id": "210ba1fa",
   "metadata": {},
   "outputs": [
    {
     "name": "stdout",
     "output_type": "stream",
     "text": [
      "Enter a letter D\n",
      "entered letter D is a consonant\n"
     ]
    }
   ],
   "source": [
    "vowels=['a','e','i','o','u','A','E','I','O','U']\n",
    "letter=input(\"Enter a letter \")\n",
    "if letter in vowels:\n",
    "    print(f\"entered letter {letter} is a vowel\")\n",
    "elif letter=='y' or letter=='Y':\n",
    "    print(f\"entered letter {letter} sometimes is a vowel and sometimes is a consonant\")\n",
    "elif letter.isalpha():\n",
    "    print(f\"entered letter {letter} is a consonant\")\n",
    "else:\n",
    "    print(\"entered input is not an alphabet\")"
   ]
  },
  {
   "cell_type": "markdown",
   "id": "3fdf3573",
   "metadata": {},
   "source": [
    "# 4. Name That Shape\n",
    "\n",
    "Write a program that determines the name of a shape from its number of sides. Read\n",
    "the number of sides from the user and then report the appropriate name as part of\n",
    "a meaningful message. Your program should support shapes with anywhere from 3\n",
    "up to (and including) 10 sides. If a number of sides outside of this range is entered\n",
    "then your program should display an appropriate error message."
   ]
  },
  {
   "cell_type": "code",
   "execution_count": 29,
   "id": "9128b15f",
   "metadata": {},
   "outputs": [
    {
     "name": "stdout",
     "output_type": "stream",
     "text": [
      "Enter number of sides of shape 11\n",
      "Entered number of sides is not valid\n"
     ]
    }
   ],
   "source": [
    "sides=int(input(\"Enter number of sides of shape \"))\n",
    "if sides in range(3,11):\n",
    "    if sides==3:\n",
    "        print(f\"shape with {sides} sides is Tiangle\")\n",
    "    elif sides==4:\n",
    "        print(f\"shape with {sides} sides is Quadrilateral\")\n",
    "    elif sides==5:\n",
    "        print(f\"shape with {sides} sides is Pentagon\")\n",
    "    elif sides==6:\n",
    "        print(f\"shape with {sides} sides is Hexagon\")\n",
    "    elif sides==7:\n",
    "        print(f\"shape with {sides} sides is Heptagon\")\n",
    "    elif sides==8:\n",
    "        print(f\"shape with {sides} sides is Octagon\")\n",
    "    elif sides==9:\n",
    "        print(f\"shape with {sides} sides is Nonagon\")\n",
    "    else:\n",
    "        print(f\"shape with {sides} sides is Decagon\")\n",
    "    \n",
    "else:\n",
    "    print(\"Entered number of sides is not valid\")\n",
    "    "
   ]
  },
  {
   "cell_type": "markdown",
   "id": "c11646bf",
   "metadata": {},
   "source": [
    "# 5. Month Name to Number of Days\n",
    "\n",
    "The length of a month varies from 28 to 31 days. In this exercise you will create\n",
    "a program that reads the name of a month from the user as a string. Then your\n",
    "program should display the number of days in that month. Display “28 or 29 days”\n",
    "for February so that leap years are addressed."
   ]
  },
  {
   "cell_type": "code",
   "execution_count": 35,
   "id": "9169558a",
   "metadata": {},
   "outputs": [
    {
     "name": "stdout",
     "output_type": "stream",
     "text": [
      "Enter month febryu\n",
      "month feb may have 28 or 29 days\n"
     ]
    }
   ],
   "source": [
    "months_with_30_days=[\"apr\",\"jun\",\"sep\",\"nov\"]\n",
    "months_with_31_days=[\"jan\", \"mar\", \"may\", \"jul\",\"aug\",\"oct\",\"dec\"]\n",
    "month=input(\"Enter month \")[:3].lower()\n",
    "if month== \"feb\":\n",
    "    print(f\"month {month} may have 28 or 29 days\")\n",
    "elif month in months_with_30_days:\n",
    "    print(f\"month {month} has 30 days\")\n",
    "elif month in months_with_31_days:\n",
    "    print(f\"month {month} has 31 days\")\n",
    "else:\n",
    "    print(\"Entered month name is not valid\")"
   ]
  },
  {
   "cell_type": "markdown",
   "id": "a9d1e74f",
   "metadata": {},
   "source": [
    "# 6. Sound Levels\n",
    "\n",
    "The following table lists the sound level in decibels for several common noises.\n",
    "      Noise       Decibel Level\n",
    "    Jackhammer      130 dB\n",
    "    Gas Lawnmower   106 dB\n",
    "    Alarm Clock     70 dB\n",
    "    Quiet Room      40 dB\n",
    "Write a program that reads a sound level in decibels from the user. If the user\n",
    "enters a decibel level that matches one of the noises in the table then your program\n",
    "should display a message containing only that noise. If the user enters a number\n",
    "of decibels between the noises listed then your program should display a message\n",
    "indicating which noises the value is between. Ensure that your program also generates\n",
    "reasonable output for a value smaller than the quietest noise in the table, and for a\n",
    "value larger than the loudest noise in the table."
   ]
  },
  {
   "cell_type": "code",
   "execution_count": 36,
   "id": "3954d5d6",
   "metadata": {},
   "outputs": [
    {
     "name": "stdout",
     "output_type": "stream",
     "text": [
      "Enter sound level in decibels(not include units) 23\n",
      "23\n"
     ]
    }
   ],
   "source": [
    "decibel=int(input(\"Enter sound level in decibels(not include units) \"))\n",
    "if decibel<40:\n",
    "    print(\"the noise is lessthan Quiet room\")\n",
    "elif decibel==40:\n",
    "    print(f\"the noise is Quiet room which has decibel level {decibel} dB \")\n",
    "elif decibel==70:\n",
    "    print(f\"the noise is Alarm Clock which has decibel level {decibel} dB \")\n",
    "elif decibel==106:\n",
    "    print(f\"the noise is Gas Lawnmower which has decibel level {decibel} dB \")\n",
    "elif decibel==130:\n",
    "    print(f\"the noise is Jackhammer which has decibel level {decibel} dB \")\n",
    "elif decibel in range(41,70):\n",
    "    print(f\"the noise is between Quiet room and Alarm Clock which has decibel level {decibel} dB \")\n",
    "elif decibel in range(71,106):\n",
    "    print(f\"the noise is between Alarm Clock and Gas Lawnmower room which has decibel level {decibel} dB \")\n",
    "elif decibel in range(107,130):\n",
    "    print(f\"the noise is between Gas Lawnmower and Jackhammer which has decibel level {decibel} dB \")\n",
    "else:\n",
    "    print(\"the noise is lager than that produce by Jackhammer\")"
   ]
  },
  {
   "cell_type": "markdown",
   "id": "30b89e9c",
   "metadata": {},
   "source": [
    "# 7. Classifying Triangles\n",
    "\n",
    "A triangle can be classified based on the lengths of its sides as equilateral, isosceles or\n",
    "scalene. All three sides of an equilateral triangle have the same length. An isosceles\n",
    "triangle has two sides that are the same length, and a third side that is a different\n",
    "length. If all of the sides have different lengths then the triangle is scalene.\n",
    "Write a program that reads the lengths of the three sides of a triangle from the\n",
    "user. Then display a message that states the triangle’s type."
   ]
  },
  {
   "cell_type": "code",
   "execution_count": 48,
   "id": "33863aa1",
   "metadata": {},
   "outputs": [
    {
     "name": "stdout",
     "output_type": "stream",
     "text": [
      "Enter length of first side of triangle 10\n",
      "Enter length of Second side of triangle 1\n",
      "Enter length of third  side of triangle 2\n",
      "it is scalene triangle\n"
     ]
    }
   ],
   "source": [
    "side_a=float(input(\"Enter length of first side of triangle \"))\n",
    "side_b=float(input(\"Enter length of Second side of triangle \"))\n",
    "side_c=float(input(\"Enter length of third  side of triangle \"))\n",
    "if side_a== side_b:\n",
    "    if side_b==side_c:\n",
    "        print(\"it is equilateral triangle\")\n",
    "    else:\n",
    "        print(\"it is isosceles triangle\")\n",
    "elif side_b== side_c or side_a==side_c:\n",
    "    print(\"it is isosceles triangle\")\n",
    "else:\n",
    "    print(\"it is scalene triangle\")"
   ]
  },
  {
   "cell_type": "markdown",
   "id": "8a6295c4",
   "metadata": {},
   "source": [
    "# 8. Note to Frequency\n",
    "\n",
    "The following table lists an octave of music notes, beginning with middle C, along\n",
    "with their frequencies.\n",
    "Note Frequency (Hz)\n",
    "C4 261.63\n",
    "D4 293.66\n",
    "E4 329.63\n",
    "F4 349.23\n",
    "G4 392.00\n",
    "A4 440.00\n",
    "B4 493.88\n",
    "\n",
    "Begin by writing a program that reads the name of a note from the user and\n",
    "displays the note’s frequency. Your program should support all of the notes listed\n",
    "previously.\n",
    "Once you have your program working correctly for the notes listed previously\n",
    "you should add support for all of the notes from C0 to C8. While this could be\n",
    "done by adding many additional cases to your if statement, such a solution is\n",
    "cumbersome, inelegant and unacceptable for the purposes of this exercise. Instead,\n",
    "you should exploit the relationship between notes in adjacent octaves. In particular, the frequency of any note in octave n is half the frequency of the corresponding note in octave n + 1. By using this relationship, you should be able to\n",
    "add support for the additional notes without adding additional cases to your if\n",
    "statement. "
   ]
  },
  {
   "cell_type": "code",
   "execution_count": 4,
   "id": "4afb6357",
   "metadata": {},
   "outputs": [
    {
     "name": "stdout",
     "output_type": "stream",
     "text": [
      "Enter note having 2 charecters like A1 g5\n",
      "frequence of note g5 entered is 784.0\n"
     ]
    }
   ],
   "source": [
    "import sys\n",
    "freq_C4 = 261.63\n",
    "freq_D4= 293.66\n",
    "freq_E4= 329.63\n",
    "freq_F4= 349.23\n",
    "freq_G4= 392.00\n",
    "freq_A4= 440.00\n",
    "freq_B4= 493.88\n",
    "note_name=input(\"Enter note having 2 charecters like A1 \")\n",
    "note=note_name[0].upper()\n",
    "octave=int(note_name[1])\n",
    "if note==\"A\":\n",
    "    freq= freq_A4\n",
    "elif note==\"B\":\n",
    "    freq= freq_B4\n",
    "elif note==\"C\":\n",
    "    freq= freq_C4\n",
    "elif note==\"D\":\n",
    "    freq= freq_D4\n",
    "elif note==\"E\":\n",
    "    freq= freq_E4\n",
    "elif note==\"F\":\n",
    "    freq= freq_F4\n",
    "elif note==\"G\":\n",
    "    freq= freq_G4\n",
    "else:\n",
    "    print(\"invalid note entered\")\n",
    "    sys.exit()\n",
    "    \n",
    "if octave in range(1,9):\n",
    "    freq/=2**(4-octave)\n",
    "    print(f\"frequence of note {note_name} entered is {freq}\")\n",
    "else:\n",
    "    print(\"entered octave is not valid\")\n",
    "\n"
   ]
  },
  {
   "cell_type": "markdown",
   "id": "a5131df3",
   "metadata": {},
   "source": [
    "# 9. What Color Is That Square?\n",
    "\n",
    "Positions on a chess board are identified by a letter and a number. The letter identifies\n",
    "the column, while the number identifies the row, as shown below:\n",
    "\n",
    "Write a program that reads a position from the user. Use an if statement to\n",
    "determine if the column begins with a black square or a white square. Then use\n",
    "modular arithmetic to report the color of the square in that row. For example, if the\n",
    "user enters a1 then your program should report that the square is black. If the user\n",
    "enters d5 then your program should report that the square is white. Your program\n",
    "may assume that a valid position will always be entered. It does not need to perform\n",
    "any error checking."
   ]
  },
  {
   "cell_type": "code",
   "execution_count": 11,
   "id": "fe71d719",
   "metadata": {},
   "outputs": [
    {
     "name": "stdout",
     "output_type": "stream",
     "text": [
      "Enter your position on chess board(example-valid order is a1) A3\n",
      "you are in black square\n"
     ]
    }
   ],
   "source": [
    "position= input(\"Enter your position on chess board(example-valid order is a1) \")\n",
    "black=['b','d','f','h']\n",
    "if (int(position[1])%2==0 and position[0].lower() in black) or (int(position[1])%2!=0 and position[0].lower() not in black):\n",
    "    print(\"you are in black square\")\n",
    "else:\n",
    "    print(\"you are in white square\")\n"
   ]
  },
  {
   "cell_type": "markdown",
   "id": "29f1d5ce",
   "metadata": {},
   "source": [
    "# 10. Roots of a Quadratic Function\n",
    "\n",
    "A univariate quadratic function has the form f (x) = ax2 +bx +c, where a, b and c\n",
    "are constants, and a is non-zero. Its roots can be identified by finding the values of x\n",
    "that satisfy the quadratic equation ax2 + bx + c = 0. These values can be computed\n",
    "using the quadratic formula, shown below. A quadratic function may have 0, 1 or 2\n",
    "real roots.\n",
    "root = −b±\n",
    "√\n",
    "b2−4ac 2a\n",
    "The portion of the expression under the square root sign is called the discriminant.\n",
    "If the discriminant is negative then the quadratic equation does not have any real\n",
    "roots. If the discriminant is 0, then the equation has one real root. Otherwise the\n",
    "equation has two real roots, and the expression must be evaluated twice, once using\n",
    "a plus sign, and once using a minus sign, when computing the numerator.\n",
    "Write a program that computes the real roots of a quadratic function. Your program should begin by prompting the user for the values of a, b and c. Then it should\n",
    "display a message indicating the number of real roots, along with the values of the\n",
    "real roots (if any)."
   ]
  },
  {
   "cell_type": "code",
   "execution_count": 19,
   "id": "2e94822d",
   "metadata": {},
   "outputs": [
    {
     "name": "stdout",
     "output_type": "stream",
     "text": [
      "Enter value of a 1\n",
      "Enter value of b 4\n",
      "Enter value of c 1\n",
      "The quadratic equation for given a,b and c values has 2 real roots that are -5.7321 and -2.2679\n"
     ]
    }
   ],
   "source": [
    "a=int(input(\"Enter value of a \"))\n",
    "b=int(input(\"Enter value of b \"))\n",
    "c=int(input(\"Enter value of c \"))\n",
    "discriminant= b*b-4*a*c\n",
    "if discriminant==0:\n",
    "    print(f\"The quadratic equation for given a,b and c values has only one root that is {-b/(2*a)}\")\n",
    "elif discriminant>0:\n",
    "    print(f\"The quadratic equation for given a,b and c values has 2 real roots that are {-b-(discriminant**0.5)/(2*a):0.4f} and {-b+(discriminant**0.5)/(2*a):0.4f}\")\n",
    "else:\n",
    "    print(\"The quadratic equation for given a,b and c values has no real roots\")"
   ]
  }
 ],
 "metadata": {
  "kernelspec": {
   "display_name": "Python 3 (ipykernel)",
   "language": "python",
   "name": "python3"
  },
  "language_info": {
   "codemirror_mode": {
    "name": "ipython",
    "version": 3
   },
   "file_extension": ".py",
   "mimetype": "text/x-python",
   "name": "python",
   "nbconvert_exporter": "python",
   "pygments_lexer": "ipython3",
   "version": "3.9.12"
  }
 },
 "nbformat": 4,
 "nbformat_minor": 5
}
